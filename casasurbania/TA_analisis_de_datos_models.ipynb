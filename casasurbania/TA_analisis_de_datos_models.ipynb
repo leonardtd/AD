{
 "cells": [
  {
   "cell_type": "markdown",
   "id": "391bb139",
   "metadata": {},
   "source": [
    "# Importando Feature Importance"
   ]
  },
  {
   "cell_type": "code",
   "execution_count": 1,
   "id": "2618fdef",
   "metadata": {},
   "outputs": [],
   "source": [
    "import matplotlib.pyplot as plt\n",
    "from sklearn.base import clone\n",
    "import pandas as pd\n",
    "import numpy as np\n",
    "\n",
    "def get_columns_importance(model, x_train, y_train, x_to_verify, y_to_verify, metric_to_evaluate, mode, column_names, figsize=(12, 8)):\n",
    "  \"\"\"\n",
    "    mode: {\"greater\", \"lower\"}\n",
    "        Especifica el modo a usar para realizar para el cálculo de los \"importances\"\n",
    "        - \"greater\": Se usa cuando la métrica que evaluamos es mejor mientras mayor sea su valor; por ejemplo, mientras mayor \"accuracy\" se tenga es mejor\n",
    "        - \"lower\": Se usa cuando la métrica que evaluamos es mejor mientras menor sea su valor; por ejemplo, mientras menor \"mean_squared_error\" se tenga es mejor\n",
    "  \"\"\"\n",
    "\n",
    "  assert mode in [\"greater\", \"lower\"], \"The parameter 'mode' should be 'greater' or 'lower'\"\n",
    "\n",
    "  assert isinstance(x_train, (np.ndarray)), \"The parameter 'x_train' should be a numpy array\"\n",
    "  assert isinstance(x_to_verify, (np.ndarray)), \"The parameter 'x_to_verify' should be a numpy array\"\n",
    "\n",
    "  x_train = pd.DataFrame(x_train, columns=column_names)\n",
    "  x_to_verify = pd.DataFrame(x_to_verify, columns=column_names)\n",
    "  \n",
    "  original_model = clone(model)\n",
    "\n",
    "  if hasattr(original_model, \"random_state\"):\n",
    "    original_model_random_state = original_model.random_state\n",
    "  else:\n",
    "    original_model_random_state = None\n",
    "  \n",
    "  original_model.fit(x_train, y_train)\n",
    "  baseline_score = metric_to_evaluate(y_to_verify, original_model.predict(x_to_verify))\n",
    "\n",
    "  importances = list()\n",
    "\n",
    "  for column_name in column_names:\n",
    "      x_train_without_column = x_train.drop(column_name, axis=1)\n",
    "      x_to_verify_without_column = x_to_verify.drop(column_name, axis=1)\n",
    "\n",
    "      new_model = clone(original_model)\n",
    "\n",
    "      if original_model_random_state != None:\n",
    "        new_model.random_state = original_model_random_state\n",
    "\n",
    "      new_model.fit(x_train_without_column, y_train)\n",
    "      new_score = metric_to_evaluate(y_to_verify, new_model.predict(x_to_verify_without_column))\n",
    "      \n",
    "      if mode == \"greater\":\n",
    "        importance = new_score - baseline_score\n",
    "      elif mode == \"lower\":\n",
    "        importance = baseline_score - new_score\n",
    "      else:\n",
    "        raise Exception(\"The value provided for 'mode' is not supported\")\n",
    "\n",
    "      importances.append(importance)\n",
    "  \n",
    "  importances = np.array(importances)\n",
    "  \n",
    "  importances_report = pd.DataFrame(data={\"column_names\": column_names, \"importances\": importances})\n",
    "  importances_report = importances_report.sort_values(\"importances\", ascending=True)\n",
    "\n",
    "  if mode == \"greater\":\n",
    "    title = \"Al eliminar las columnas con barras hacia la derecha, el valor de la métrica a evaluar aumenta\\n\"\n",
    "    title += \"Al eliminar las columnas con barras hacia la izquierda, el valor de la métrica a evaluar disminuye\"\n",
    "  elif mode == \"lower\":\n",
    "    title = \"Al eliminar las columnas con barras hacia la derecha, el valor de la métrica a evaluar disminuye\\n\"\n",
    "    title += \"Al eliminar las columnas con barras hacia la izquierda, el valor de la métrica a evaluar aumenta\"\n",
    "  else:\n",
    "    raise Exception(\"The value provided for 'mode' is not supported\")\n",
    "\n",
    "  fig = plt.figure(figsize=figsize)\n",
    "  plt.barh(importances_report.column_names, importances_report.importances.values, height=0.75)\n",
    "  plt.axvline(x=0, color=\"r\")\n",
    "  plt.title(title)\n",
    "  fig.tight_layout()\n",
    "  plt.show()\n",
    "\n",
    "  return importances_report"
   ]
  },
  {
   "cell_type": "code",
   "execution_count": 2,
   "id": "45c99c6b",
   "metadata": {},
   "outputs": [],
   "source": [
    "import pandas as pd\n",
    "import numpy as np\n",
    "import matplotlib.pyplot as plt\n",
    "from mpl_toolkits.mplot3d import Axes3D\n",
    "import seaborn as sns\n",
    "from datetime import datetime\n",
    "from sklearn.model_selection import train_test_split\n",
    "from sklearn.linear_model import LinearRegression, LassoLars, Lasso, Ridge\n",
    "from sklearn.preprocessing import MinMaxScaler"
   ]
  },
  {
   "cell_type": "code",
   "execution_count": 3,
   "id": "70d15314",
   "metadata": {},
   "outputs": [],
   "source": [
    "df = pd.read_csv('urbania_data_clean.csv')"
   ]
  },
  {
   "cell_type": "markdown",
   "id": "7e584b2f",
   "metadata": {},
   "source": [
    "# Dropeando Columnas que no aportan al modelo"
   ]
  },
  {
   "cell_type": "code",
   "execution_count": 4,
   "id": "f06551c0",
   "metadata": {},
   "outputs": [],
   "source": [
    "df = df.drop(columns =[\"Descripcion\", \"Anunciante\", \"Fecha_pub\", \"latitud\", \"longitud\", \"Direccion\"], axis = 1)"
   ]
  },
  {
   "cell_type": "code",
   "execution_count": 5,
   "id": "952c7aec",
   "metadata": {},
   "outputs": [
    {
     "name": "stdout",
     "output_type": "stream",
     "text": [
      "<class 'pandas.core.frame.DataFrame'>\n",
      "RangeIndex: 7644 entries, 0 to 7643\n",
      "Columns: 205 entries, Antiguedad to Provincia_Provincia\n",
      "dtypes: float64(11), int64(123), object(71)\n",
      "memory usage: 12.0+ MB\n"
     ]
    }
   ],
   "source": [
    "df.info()"
   ]
  },
  {
   "cell_type": "markdown",
   "id": "2740b80b",
   "metadata": {},
   "source": [
    "# Convirtiendo las variables categoricas a numericas"
   ]
  },
  {
   "cell_type": "code",
   "execution_count": 6,
   "id": "71ca2204",
   "metadata": {},
   "outputs": [],
   "source": [
    "# Luego de revisar cada columna..\n",
    "\n",
    "## NUMERICAS\n",
    "num_cols_originales = [\n",
    "    'Antiguedad',\n",
    "    'NroBanios',\n",
    "    'Nro_pisos',\n",
    "    'Cocheras',\n",
    "    'Dormitorios',\n",
    "    #'fecha_publicacion',\n",
    "    'Precio',\n",
    "    'Area_constr_m2',\n",
    "    'Area_total_m2',\n",
    "\n",
    "]\n",
    "\n",
    "num_cols = [\n",
    "    'Antiguedad',\n",
    "    'NroBanios',\n",
    "    'Nro_pisos',\n",
    "    'Cocheras',\n",
    "    'Dormitorios',\n",
    "    #'fecha_publicacion',\n",
    "    'Precio',\n",
    "    'Area_constr_m2',\n",
    "    'Area_total_m2',\n",
    "    \"ratioConstruccion\",\n",
    "    \"ratioBanios\",\n",
    "    \"ratioDormitorios\",\n",
    "    \"diferenciaAreas\"\n",
    "]\n",
    "\n",
    "col_garma = [\n",
    "    'Cocheras',\n",
    "    'Precio',\n",
    "    'Area_constr_m2',\n",
    "    'Area_total_m2',\n",
    "    \"ratioBanios\",\n",
    "    'NroBanios',\n",
    "]"
   ]
  },
  {
   "cell_type": "code",
   "execution_count": 7,
   "id": "14a6fabc",
   "metadata": {},
   "outputs": [],
   "source": [
    "df = df.sort_values(by = 'fecha_publicacion')"
   ]
  },
  {
   "cell_type": "code",
   "execution_count": 8,
   "id": "34950b4d",
   "metadata": {},
   "outputs": [
    {
     "data": {
      "text/plain": [
       "Index(['Balneario', 'Uso_comercial', 'Uso_profesional', ''Cuarto de servicio'',\n",
       "       ''Deposito'', ''Terraza'', ''Kitchenette'', ''Sala de estar'',\n",
       "       ''Sotano'', ''Patio'', ''anx81tico'', ''Comedor diario'', ''Comedor'',\n",
       "       ''Banio de servicio'', ''Jardanxadn Interno'', ''Walking Closet'',\n",
       "       ''Escritorio'', ''Cocina'', ''Banio independiente'', ''Lavanderanxada'',\n",
       "       ''Balcon'', ''Sala'', ''Closet'', ''Banio de visitas'', ''Agua'',\n",
       "       ''Guardiananxada'', ''Internet'', ''Luz'', ''Cable'',\n",
       "       ''Servicio de Limpieza'', ''Conexion a gas'', ''Sistema de seguridad'',\n",
       "       ''Telefono'', ''Areadeportiva'', ''Piscina'', ''Solarium'',\n",
       "       ''Sala de internet'', ''Sala de cine'', ''Jardanxadn'',\n",
       "       ''Parque interno'', ''Guarderanxada'', ''anx81reas verdes'',\n",
       "       ''Club House'', ''Hall de ingreso'', ''Areade BBQ'', ''Gimnasio'',\n",
       "       ''Areade sauna'', ''Juegos para ninios'', ''Ingreso independiente'',\n",
       "       ''Colegios cercanos'', ''Cerca al mar'',\n",
       "       ''Centros comerciales cercanos'', ''Parques cercanos'',\n",
       "       ''Acceso personas discapacidad'', ''Frente al mar'', ''Desagaue'',\n",
       "       ''Jacuzzi'', ''Chimenea'', ''Intercomunicador'', ''Cerco Electrico'',\n",
       "       ''Parrilla'', ''Aire acondicionado'', ''Amoblado'', ''Sauna'',\n",
       "       ''Calefaccion'', ''Equipado'', ''Terma'', ''Portero electrico'',\n",
       "       ''Cocina con reposteros'', 'fecha_publicacion', 'Area_total_m2_bins'],\n",
       "      dtype='object')"
      ]
     },
     "execution_count": 8,
     "metadata": {},
     "output_type": "execute_result"
    }
   ],
   "source": [
    "df.select_dtypes('object').columns"
   ]
  },
  {
   "cell_type": "markdown",
   "id": "dca2cf16",
   "metadata": {},
   "source": [
    "## DF con solo variables numericas originales"
   ]
  },
  {
   "cell_type": "code",
   "execution_count": 9,
   "id": "6fd08d04",
   "metadata": {},
   "outputs": [],
   "source": [
    "df_num_org = df[num_cols_originales]"
   ]
  },
  {
   "cell_type": "markdown",
   "id": "580f8835",
   "metadata": {},
   "source": [
    "## DF con solo variables numericas"
   ]
  },
  {
   "cell_type": "code",
   "execution_count": 10,
   "id": "8afd4fa1",
   "metadata": {},
   "outputs": [],
   "source": [
    "df_num = df[num_cols]"
   ]
  },
  {
   "cell_type": "markdown",
   "id": "c5f792ff-aff5-482c-b66d-f179557f33f6",
   "metadata": {},
   "source": [
    "## DF sin algunas variables construccion"
   ]
  },
  {
   "cell_type": "code",
   "execution_count": 11,
   "id": "26099fb3-6288-47ce-b229-1033e066af81",
   "metadata": {
    "tags": []
   },
   "outputs": [],
   "source": [
    "df_num_constr = df_num.drop(columns = [\n",
    "    'Area_constr_m2'\n",
    "    #'Area_total_m2',\n",
    "    #\"ratioConstruccion\",\n",
    "    #\"ratioBanios\",\n",
    "    #\"ratioDormitorios\"\n",
    "])"
   ]
  },
  {
   "cell_type": "markdown",
   "id": "f97c5c18",
   "metadata": {},
   "source": [
    "## DF para variables categoricas"
   ]
  },
  {
   "cell_type": "code",
   "execution_count": 12,
   "id": "a0e13324",
   "metadata": {},
   "outputs": [],
   "source": [
    "df_cat = df.drop(columns=['fecha_publicacion', 'Balneario', 'Area_total_m2_bins'])"
   ]
  },
  {
   "cell_type": "code",
   "execution_count": 13,
   "id": "69baca4a",
   "metadata": {},
   "outputs": [],
   "source": [
    "#Obteniendo las columnas numericas para no procesarlas\n",
    "col_num = df_cat.select_dtypes('number').columns.tolist()"
   ]
  },
  {
   "cell_type": "code",
   "execution_count": 14,
   "id": "61a6c072",
   "metadata": {},
   "outputs": [],
   "source": [
    "#Obteniendo las columnas que indican imputacion\n",
    "col_num_imp = []\n",
    "for col in col_num:\n",
    "    if '_IMP' in col:\n",
    "        col_num_imp = col_num_imp + [col]"
   ]
  },
  {
   "cell_type": "code",
   "execution_count": 15,
   "id": "211f544a",
   "metadata": {},
   "outputs": [],
   "source": [
    "#Obteniendo las columnas categoricas para procesar\n",
    "col_cat = df_cat.select_dtypes('object').columns.tolist()"
   ]
  },
  {
   "cell_type": "code",
   "execution_count": 16,
   "id": "4bc219e9",
   "metadata": {},
   "outputs": [],
   "source": [
    "def imputarValor (df, columns, value):\n",
    "    for col in columns:\n",
    "        try:\n",
    "            df[col] = df[col].apply(lambda x: float(value) if x == 'ND' else float(x) )\n",
    "        except:\n",
    "            print(col)\n",
    "    return df"
   ]
  },
  {
   "cell_type": "markdown",
   "id": "13ba4043",
   "metadata": {},
   "source": [
    "### DF con tratando ND con valor 2"
   ]
  },
  {
   "cell_type": "code",
   "execution_count": 17,
   "id": "e36c3fc1",
   "metadata": {},
   "outputs": [],
   "source": [
    "df_cat_2 = df_cat.copy()"
   ]
  },
  {
   "cell_type": "code",
   "execution_count": 18,
   "id": "00bc8cd5",
   "metadata": {},
   "outputs": [],
   "source": [
    "df_cat_2 = imputarValor(df_cat_2, col_cat, 2)"
   ]
  },
  {
   "cell_type": "code",
   "execution_count": 19,
   "id": "7e43ce2c",
   "metadata": {},
   "outputs": [
    {
     "data": {
      "text/plain": [
       "Index([], dtype='object')"
      ]
     },
     "execution_count": 19,
     "metadata": {},
     "output_type": "execute_result"
    }
   ],
   "source": [
    "df_cat_2.select_dtypes('object').columns"
   ]
  },
  {
   "cell_type": "markdown",
   "id": "4061e087",
   "metadata": {},
   "source": [
    "### DF con tratando ND con valor 0"
   ]
  },
  {
   "cell_type": "code",
   "execution_count": 20,
   "id": "3108fc20",
   "metadata": {},
   "outputs": [],
   "source": [
    "df_cat_0 = df_cat.copy()"
   ]
  },
  {
   "cell_type": "code",
   "execution_count": 21,
   "id": "887ed86f",
   "metadata": {},
   "outputs": [],
   "source": [
    "df_cat_0 = imputarValor(df_cat_0, col_cat, 0)"
   ]
  },
  {
   "cell_type": "markdown",
   "id": "668a6e0f",
   "metadata": {},
   "source": [
    "### DF quitando columnas IMP"
   ]
  },
  {
   "cell_type": "code",
   "execution_count": 22,
   "id": "5992c3ba",
   "metadata": {},
   "outputs": [],
   "source": [
    "df_cat_imp = df_cat_2.drop(columns = col_num_imp)"
   ]
  },
  {
   "cell_type": "markdown",
   "id": "8c930062-8e55-460e-bc2a-8a0833714eec",
   "metadata": {
    "tags": []
   },
   "source": [
    "## Correlacion"
   ]
  },
  {
   "cell_type": "code",
   "execution_count": 23,
   "id": "ec62554f-08f0-40b0-b309-6d072f29783c",
   "metadata": {},
   "outputs": [],
   "source": [
    "corrmat = df_num.corr()"
   ]
  },
  {
   "cell_type": "code",
   "execution_count": 24,
   "id": "0c31b5a3-cb19-4749-9322-8d21a31d8f31",
   "metadata": {},
   "outputs": [],
   "source": [
    "columns = corrmat.nlargest(12, 'Precio')['Precio'].index"
   ]
  },
  {
   "cell_type": "code",
   "execution_count": 25,
   "id": "c9d2c7d3-a34a-46b5-b726-4d9d2f2378c9",
   "metadata": {},
   "outputs": [],
   "source": [
    "corrmat = df_num[columns].corr()"
   ]
  },
  {
   "cell_type": "code",
   "execution_count": 26,
   "id": "fa9a84a3-c008-48b8-a355-ca5dded6a11f",
   "metadata": {
    "scrolled": true
   },
   "outputs": [
    {
     "data": {
      "image/png": "[encoded data removed]",
      "text/plain": [
       "<Figure size 720x720 with 2 Axes>"
      ]
     },
     "metadata": {
      "needs_background": "light"
     },
     "output_type": "display_data"
    }
   ],
   "source": [
    "plt.figure(figsize=(10,10))\n",
    "sns.set(font_scale=1.25)\n",
    "heat_map = sns.heatmap(corrmat, cbar=True, annot=True, square=True, fmt='.2f', annot_kws={'size': 10}, yticklabels=columns.values, xticklabels=columns.values)\n",
    "plt.show()"
   ]
  },
  {
   "cell_type": "markdown",
   "id": "8e2222d0-71e8-495a-9af2-47113aae40d2",
   "metadata": {},
   "source": [
    "## DF top 5 corr"
   ]
  },
  {
   "cell_type": "code",
   "execution_count": 27,
   "id": "3974cdd1-0e3d-49c6-9347-f73855bc281d",
   "metadata": {
    "tags": []
   },
   "outputs": [],
   "source": [
    "df_top5corr = df_num[col_garma]"
   ]
  },
  {
   "cell_type": "markdown",
   "id": "29b5f9b6",
   "metadata": {},
   "source": [
    "# Separando dataset en val, test, train"
   ]
  },
  {
   "cell_type": "code",
   "execution_count": 28,
   "id": "3a8e5516",
   "metadata": {},
   "outputs": [],
   "source": [
    "def train_test_val_split(df):\n",
    "    df_val = df.iloc[int(df.shape[0]*0.9):]\n",
    "    df_training = df.iloc[:int(df.shape[0]*0.9)]\n",
    "    df_train, df_test = train_test_split(df_training, random_state = 0, test_size = 0.2)\n",
    "    return df_train, df_test, df_val"
   ]
  },
  {
   "cell_type": "code",
   "execution_count": 29,
   "id": "d8a14881",
   "metadata": {},
   "outputs": [],
   "source": [
    "def x_y_split(df, target):\n",
    "    x =  df.drop(columns = target)\n",
    "    y = df[target].values\n",
    "    return x, y"
   ]
  },
  {
   "cell_type": "code",
   "execution_count": 30,
   "id": "1a2439ac",
   "metadata": {},
   "outputs": [],
   "source": [
    "def fit_model(df_train, df_test, df_val, model, normalize = False):\n",
    "    x_train, y_train = x_y_split(df_train, \"Precio\")\n",
    "    x_test, y_test = x_y_split(df_test, \"Precio\")\n",
    "    x_val, y_val = x_y_split(df_val, \"Precio\")\n",
    "    \n",
    "    if normalize:\n",
    "        y_train = np.log1p(y_train)\n",
    "        y_test = np.log1p(y_test)\n",
    "        y_val = np.log1p(y_val)\n",
    "        \n",
    "    model.fit(x_train, y_train)\n",
    "    print(\"train: \",model.score(x_train, y_train))\n",
    "    print(\"test: \",model.score(x_test, y_test))\n",
    "    print(\"val: \",model.score(x_val, y_val))\n",
    "    return model"
   ]
  },
  {
   "cell_type": "markdown",
   "id": "5806cc21",
   "metadata": {},
   "source": [
    "## Modelo 1: variables numericas originales"
   ]
  },
  {
   "cell_type": "code",
   "execution_count": 31,
   "id": "6f556f83",
   "metadata": {},
   "outputs": [],
   "source": [
    "df_train, df_test, df_val = train_test_val_split(df_num_org)"
   ]
  },
  {
   "cell_type": "code",
   "execution_count": 32,
   "id": "403cde4b",
   "metadata": {},
   "outputs": [
    {
     "name": "stdout",
     "output_type": "stream",
     "text": [
      "train:  0.3370305540127345\n",
      "test:  0.32580993172511974\n",
      "val:  0.3067394073643903\n"
     ]
    }
   ],
   "source": [
    "model = fit_model(df_train, df_test, df_val, LinearRegression())"
   ]
  },
  {
   "cell_type": "markdown",
   "id": "083c477a",
   "metadata": {},
   "source": [
    "## Modelo 2: variables numericas"
   ]
  },
  {
   "cell_type": "code",
   "execution_count": 33,
   "id": "04b7f6ea",
   "metadata": {},
   "outputs": [],
   "source": [
    "df_train, df_test, df_val = train_test_val_split(df_num)"
   ]
  },
  {
   "cell_type": "code",
   "execution_count": 34,
   "id": "470736fa",
   "metadata": {},
   "outputs": [
    {
     "name": "stdout",
     "output_type": "stream",
     "text": [
      "train:  0.41898649286193446\n",
      "test:  0.2716230297817398\n",
      "val:  0.39467525274362314\n"
     ]
    }
   ],
   "source": [
    "model = fit_model(df_train, df_test, df_val, LinearRegression())"
   ]
  },
  {
   "cell_type": "markdown",
   "id": "ddcba5d3-18fc-4c56-8802-95bc8179b594",
   "metadata": {
    "tags": []
   },
   "source": [
    "## Modelo 3: primeras 5 corr"
   ]
  },
  {
   "cell_type": "code",
   "execution_count": 35,
   "id": "02a358b7-d5c0-49f5-ab1c-70a86c15e7e8",
   "metadata": {},
   "outputs": [],
   "source": [
    "df_train, df_test, df_val = train_test_val_split(df_top5corr)"
   ]
  },
  {
   "cell_type": "code",
   "execution_count": 36,
   "id": "b0380df5-e1ee-4564-9569-4cbdf58e93e5",
   "metadata": {},
   "outputs": [
    {
     "name": "stdout",
     "output_type": "stream",
     "text": [
      "train:  0.3370000446611974\n",
      "test:  0.3236877876449834\n",
      "val:  0.30686457858659355\n"
     ]
    }
   ],
   "source": [
    "model = fit_model(df_train, df_test, df_val, LinearRegression())"
   ]
  },
  {
   "cell_type": "markdown",
   "id": "311a785d",
   "metadata": {},
   "source": [
    "## Modelo 4: variables numericas normalizando precio"
   ]
  },
  {
   "cell_type": "code",
   "execution_count": 37,
   "id": "ac7e2956",
   "metadata": {},
   "outputs": [],
   "source": [
    "df_train, df_test, df_val = train_test_val_split(df_num)"
   ]
  },
  {
   "cell_type": "code",
   "execution_count": 38,
   "id": "afd80ec6",
   "metadata": {},
   "outputs": [
    {
     "name": "stdout",
     "output_type": "stream",
     "text": [
      "train:  0.5362166581335345\n",
      "test:  0.3936900344224654\n",
      "val:  0.5198767703096199\n"
     ]
    }
   ],
   "source": [
    "model = fit_model(df_train, df_test, df_val, LinearRegression(), True)"
   ]
  },
  {
   "cell_type": "markdown",
   "id": "964b6192",
   "metadata": {},
   "source": [
    "## Utilizando el feature importance con variables numericas"
   ]
  },
  {
   "cell_type": "code",
   "execution_count": 39,
   "id": "44b1af53",
   "metadata": {},
   "outputs": [],
   "source": [
    "df_train, df_test, df_val = train_test_val_split(df_num)"
   ]
  },
  {
   "cell_type": "code",
   "execution_count": 40,
   "id": "6ed4f741",
   "metadata": {},
   "outputs": [],
   "source": [
    "x_train, y_train = x_y_split(df_train, \"Precio\")\n",
    "x_test, y_test = x_y_split(df_test, \"Precio\")\n",
    "x_val, y_val = x_y_split(df_val, \"Precio\")"
   ]
  },
  {
   "cell_type": "code",
   "execution_count": 41,
   "id": "e5e41c84",
   "metadata": {},
   "outputs": [],
   "source": [
    "column_names = x_train.columns.tolist()"
   ]
  },
  {
   "cell_type": "code",
   "execution_count": 42,
   "id": "d48457c8",
   "metadata": {},
   "outputs": [],
   "source": [
    "#Escalamiento de las variables\n",
    "scaler = MinMaxScaler()\n",
    "\n",
    "x_train = scaler.fit_transform(x_train)\n",
    "x_test = scaler.transform(x_test)\n",
    "x_val = scaler.transform(x_val)"
   ]
  },
  {
   "cell_type": "code",
   "execution_count": 43,
   "id": "77d99044",
   "metadata": {},
   "outputs": [],
   "source": [
    "model = LinearRegression()"
   ]
  },
  {
   "cell_type": "code",
   "execution_count": 44,
   "id": "69a1f5a7",
   "metadata": {},
   "outputs": [
    {
     "data": {
      "text/plain": [
       "LinearRegression()"
      ]
     },
     "execution_count": 44,
     "metadata": {},
     "output_type": "execute_result"
    }
   ],
   "source": [
    "model.fit(x_train, y_train)"
   ]
  },
  {
   "cell_type": "code",
   "execution_count": 45,
   "id": "a73fb800",
   "metadata": {},
   "outputs": [
    {
     "data": {
      "image/png": "[encoded data removed]",
      "text/plain": [
       "<Figure size 864x576 with 1 Axes>"
      ]
     },
     "metadata": {},
     "output_type": "display_data"
    }
   ],
   "source": [
    "from sklearn.metrics import r2_score\n",
    "importances_report = get_columns_importance(\n",
    "                                              model,\n",
    "                                              x_train=x_train,\n",
    "                                              y_train=y_train,\n",
    "                                              x_to_verify=x_test,\n",
    "                                              y_to_verify=y_test,\n",
    "                                              metric_to_evaluate=r2_score,\n",
    "                                              mode=\"greater\",\n",
    "                                              column_names=column_names\n",
    "                                            )"
   ]
  },
  {
   "cell_type": "markdown",
   "id": "4cf56de9",
   "metadata": {},
   "source": [
    "## Modelo 5: variables categoricas con imputacion 2"
   ]
  },
  {
   "cell_type": "code",
   "execution_count": 46,
   "id": "1108e185",
   "metadata": {},
   "outputs": [],
   "source": [
    "df_train, df_test, df_val = train_test_val_split(df_cat_2)"
   ]
  },
  {
   "cell_type": "code",
   "execution_count": 47,
   "id": "0532df17",
   "metadata": {},
   "outputs": [
    {
     "name": "stdout",
     "output_type": "stream",
     "text": [
      "train:  0.544561318536082\n",
      "test:  0.5121169388545718\n",
      "val:  0.5145909727538679\n"
     ]
    }
   ],
   "source": [
    "model = fit_model(df_train, df_test, df_val, LinearRegression())"
   ]
  },
  {
   "cell_type": "markdown",
   "id": "0696ff49",
   "metadata": {},
   "source": [
    "## Modelo 6: variables categoricas con imputacion 0"
   ]
  },
  {
   "cell_type": "code",
   "execution_count": 48,
   "id": "fdbb9417",
   "metadata": {},
   "outputs": [],
   "source": [
    "df_train, df_test, df_val = train_test_val_split(df_cat_0)"
   ]
  },
  {
   "cell_type": "code",
   "execution_count": 49,
   "id": "16a8b43a",
   "metadata": {},
   "outputs": [
    {
     "name": "stdout",
     "output_type": "stream",
     "text": [
      "train:  0.5445610570633772\n",
      "test:  0.5120226849678065\n",
      "val:  0.5146731192394917\n"
     ]
    }
   ],
   "source": [
    "model = fit_model(df_train, df_test, df_val, LinearRegression())"
   ]
  },
  {
   "cell_type": "markdown",
   "id": "1e3ec828",
   "metadata": {},
   "source": [
    "## Modelo 7: variables categoricas quitando columnas de imputacion"
   ]
  },
  {
   "cell_type": "code",
   "execution_count": 50,
   "id": "768ab67b",
   "metadata": {},
   "outputs": [],
   "source": [
    "df_train, df_test, df_val = train_test_val_split(df_cat_imp)"
   ]
  },
  {
   "cell_type": "code",
   "execution_count": 51,
   "id": "86c132b3",
   "metadata": {},
   "outputs": [
    {
     "name": "stdout",
     "output_type": "stream",
     "text": [
      "train:  0.5436696133217447\n",
      "test:  0.5118367698804613\n",
      "val:  0.518225510609224\n"
     ]
    }
   ],
   "source": [
    "model = fit_model(df_train, df_test, df_val, LinearRegression())"
   ]
  },
  {
   "cell_type": "markdown",
   "id": "0f45859a",
   "metadata": {},
   "source": [
    "## Modelo 8: compuesto por los mejores modelos con LinearRegression"
   ]
  },
  {
   "cell_type": "code",
   "execution_count": 52,
   "id": "c165ed3a",
   "metadata": {},
   "outputs": [],
   "source": [
    "df_train, df_test, df_val = train_test_val_split(df_cat_2)"
   ]
  },
  {
   "cell_type": "code",
   "execution_count": 53,
   "id": "c3ae4328",
   "metadata": {},
   "outputs": [
    {
     "name": "stdout",
     "output_type": "stream",
     "text": [
      "train:  0.769117124961139\n",
      "test:  0.7296217133461363\n",
      "val:  0.7438727540507598\n"
     ]
    }
   ],
   "source": [
    "model = fit_model(df_train, df_test, df_val, LinearRegression(), True)"
   ]
  },
  {
   "cell_type": "markdown",
   "id": "a2aebcba",
   "metadata": {},
   "source": [
    "## Modelo 9: compuesto por los mejores modelos con LassoLars"
   ]
  },
  {
   "cell_type": "code",
   "execution_count": 54,
   "id": "8b5ccb92",
   "metadata": {},
   "outputs": [],
   "source": [
    "df_train, df_test, df_val = train_test_val_split(df_cat_2)"
   ]
  },
  {
   "cell_type": "code",
   "execution_count": 55,
   "id": "a19b6c52",
   "metadata": {},
   "outputs": [
    {
     "name": "stdout",
     "output_type": "stream",
     "text": [
      "train:  0.4639945754667546\n",
      "test:  0.43574580363856774\n",
      "val:  0.441376202485146\n"
     ]
    }
   ],
   "source": [
    "model = fit_model(df_train, df_test, df_val, LassoLars(alpha=.1, normalize=False), True)"
   ]
  },
  {
   "cell_type": "markdown",
   "id": "a8865ccf",
   "metadata": {},
   "source": [
    "## Modelo 10: compuesto por los mejores modelos con RandomForestRegressor"
   ]
  },
  {
   "cell_type": "code",
   "execution_count": 56,
   "id": "c06496f3",
   "metadata": {},
   "outputs": [],
   "source": [
    "from sklearn.ensemble import RandomForestRegressor\n",
    "df_train, df_test, df_val = train_test_val_split(df_cat_2)\n",
    "model = RandomForestRegressor(n_estimators=5, random_state=0)"
   ]
  },
  {
   "cell_type": "code",
   "execution_count": 57,
   "id": "617137c4",
   "metadata": {},
   "outputs": [
    {
     "name": "stdout",
     "output_type": "stream",
     "text": [
      "train:  0.951823853016299\n",
      "test:  0.7768359716563823\n",
      "val:  0.7792342337333804\n"
     ]
    }
   ],
   "source": [
    "model = fit_model(df_train, df_test, df_val, model, True)"
   ]
  },
  {
   "cell_type": "markdown",
   "id": "5f69097e",
   "metadata": {},
   "source": [
    "## Modelo 11: compuesto por los mejores modelos con Ridge"
   ]
  },
  {
   "cell_type": "code",
   "execution_count": 58,
   "id": "537ebd9e",
   "metadata": {},
   "outputs": [],
   "source": [
    "df_train, df_test, df_val = train_test_val_split(df_cat_2)\n",
    "model = Ridge(alpha=1.0)"
   ]
  },
  {
   "cell_type": "code",
   "execution_count": 59,
   "id": "01b8cfa2",
   "metadata": {},
   "outputs": [
    {
     "name": "stdout",
     "output_type": "stream",
     "text": [
      "train:  0.7691025976255357\n",
      "test:  0.7298760324938008\n",
      "val:  0.7438167056523544\n"
     ]
    }
   ],
   "source": [
    "model = fit_model(df_train, df_test, df_val, model, True)"
   ]
  },
  {
   "cell_type": "markdown",
   "id": "b5786e4a",
   "metadata": {},
   "source": [
    "## Modelo 12: compuesto por los mejores modelos con Lasso"
   ]
  },
  {
   "cell_type": "code",
   "execution_count": 60,
   "id": "7676a240",
   "metadata": {},
   "outputs": [],
   "source": [
    "df_train, df_test, df_val = train_test_val_split(df_cat_2)\n",
    "model = Lasso(alpha=0.1)"
   ]
  },
  {
   "cell_type": "code",
   "execution_count": 61,
   "id": "0530c0c7",
   "metadata": {},
   "outputs": [
    {
     "name": "stdout",
     "output_type": "stream",
     "text": [
      "train:  0.46399435834720304\n",
      "test:  0.43574279576913677\n",
      "val:  0.4413713900960332\n"
     ]
    }
   ],
   "source": [
    "model = fit_model(df_train, df_test, df_val, model, True)"
   ]
  },
  {
   "cell_type": "markdown",
   "id": "82a7da07",
   "metadata": {},
   "source": [
    "## Modelo 13: compuesto por los mejores modelos con XGBRegressor"
   ]
  },
  {
   "cell_type": "code",
   "execution_count": 64,
   "id": "dc1ab745",
   "metadata": {},
   "outputs": [],
   "source": [
    "from xgboost import XGBRegressor\n",
    "from sklearn.metrics import r2_score\n",
    "\n",
    "df_train, df_test, df_val = train_test_val_split(df_cat_2)\n",
    "model = XGBRegressor(tree_method=\"hist\", eval_metric = r2_score)"
   ]
  },
  {
   "cell_type": "code",
   "execution_count": 65,
   "id": "f0d3d144",
   "metadata": {},
   "outputs": [
    {
     "name": "stdout",
     "output_type": "stream",
     "text": [
      "train:  0.9670327854744787\n",
      "test:  0.8380338078546273\n",
      "val:  0.8254673736467446\n"
     ]
    }
   ],
   "source": [
    "model = fit_model(df_train, df_test, df_val, model, True)"
   ]
  },
  {
   "cell_type": "code",
   "execution_count": 66,
   "id": "d6cf7cae",
   "metadata": {},
   "outputs": [],
   "source": [
    "feature_importances = pd.Series(dict(zip(df_train.drop(columns=\"Precio\").columns, model.feature_importances_)))\n",
    "feature_importances = feature_importances.sort_values(ascending=False)"
   ]
  },
  {
   "cell_type": "code",
   "execution_count": 67,
   "id": "bf3882c2",
   "metadata": {},
   "outputs": [
    {
     "data": {
      "image/png": "[encoded data removed]",
      "text/plain": [
       "<Figure size 576x432 with 1 Axes>"
      ]
     },
     "metadata": {},
     "output_type": "display_data"
    }
   ],
   "source": [
    "plt.figure(figsize=(8,6))\n",
    "feature_importances[:25].plot.barh()\n",
    "plt.show()"
   ]
  },
  {
   "cell_type": "markdown",
   "id": "c67b7b79",
   "metadata": {},
   "source": [
    "# Next Steps"
   ]
  },
  {
   "cell_type": "markdown",
   "id": "9b4fc61e",
   "metadata": {},
   "source": [
    "- Evaluar predicciones y su distribucion\n",
    "- Eliminar variables poco relevantes\n",
    "- Optimizar hiper parametros\n",
    "- Aplicar Regularizacion"
   ]
  },
  {
   "cell_type": "code",
   "execution_count": null,
   "id": "c04c0f6f",
   "metadata": {},
   "outputs": [],
   "source": []
  }
 ],
 "metadata": {
  "kernelspec": {
   "display_name": "Python 3 (ipykernel)",
   "language": "python",
   "name": "python3"
  },
  "language_info": {
   "codemirror_mode": {
    "name": "ipython",
    "version": 3
   },
   "file_extension": ".py",
   "mimetype": "text/x-python",
   "name": "python",
   "nbconvert_exporter": "python",
   "pygments_lexer": "ipython3",
   "version": "3.9.7"
  }
 },
 "nbformat": 4,
 "nbformat_minor": 5
}
