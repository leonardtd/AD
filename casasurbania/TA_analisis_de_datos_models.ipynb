{
 "cells": [
  {
   "cell_type": "markdown",
   "id": "391bb139",
   "metadata": {},
   "source": [
    "# Importando Feature Importance"
   ]
  },
  {
   "cell_type": "code",
   "execution_count": 1,
   "id": "2618fdef",
   "metadata": {},
   "outputs": [],
   "source": [
    "import matplotlib.pyplot as plt\n",
    "from sklearn.base import clone\n",
    "import pandas as pd\n",
    "import numpy as np\n",
    "\n",
    "def get_columns_importance(model, x_train, y_train, x_to_verify, y_to_verify, metric_to_evaluate, mode, column_names, figsize=(12, 8)):\n",
    "  \"\"\"\n",
    "    mode: {\"greater\", \"lower\"}\n",
    "        Especifica el modo a usar para realizar para el cálculo de los \"importances\"\n",
    "        - \"greater\": Se usa cuando la métrica que evaluamos es mejor mientras mayor sea su valor; por ejemplo, mientras mayor \"accuracy\" se tenga es mejor\n",
    "        - \"lower\": Se usa cuando la métrica que evaluamos es mejor mientras menor sea su valor; por ejemplo, mientras menor \"mean_squared_error\" se tenga es mejor\n",
    "  \"\"\"\n",
    "\n",
    "  assert mode in [\"greater\", \"lower\"], \"The parameter 'mode' should be 'greater' or 'lower'\"\n",
    "\n",
    "  assert isinstance(x_train, (np.ndarray)), \"The parameter 'x_train' should be a numpy array\"\n",
    "  assert isinstance(x_to_verify, (np.ndarray)), \"The parameter 'x_to_verify' should be a numpy array\"\n",
    "\n",
    "  x_train = pd.DataFrame(x_train, columns=column_names)\n",
    "  x_to_verify = pd.DataFrame(x_to_verify, columns=column_names)\n",
    "  \n",
    "  original_model = clone(model)\n",
    "\n",
    "  if hasattr(original_model, \"random_state\"):\n",
    "    original_model_random_state = original_model.random_state\n",
    "  else:\n",
    "    original_model_random_state = None\n",
    "  \n",
    "  original_model.fit(x_train, y_train)\n",
    "  baseline_score = metric_to_evaluate(y_to_verify, original_model.predict(x_to_verify))\n",
    "\n",
    "  importances = list()\n",
    "\n",
    "  for column_name in column_names:\n",
    "      x_train_without_column = x_train.drop(column_name, axis=1)\n",
    "      x_to_verify_without_column = x_to_verify.drop(column_name, axis=1)\n",
    "\n",
    "      new_model = clone(original_model)\n",
    "\n",
    "      if original_model_random_state != None:\n",
    "        new_model.random_state = original_model_random_state\n",
    "\n",
    "      new_model.fit(x_train_without_column, y_train)\n",
    "      new_score = metric_to_evaluate(y_to_verify, new_model.predict(x_to_verify_without_column))\n",
    "      \n",
    "      if mode == \"greater\":\n",
    "        importance = new_score - baseline_score\n",
    "      elif mode == \"lower\":\n",
    "        importance = baseline_score - new_score\n",
    "      else:\n",
    "        raise Exception(\"The value provided for 'mode' is not supported\")\n",
    "\n",
    "      importances.append(importance)\n",
    "  \n",
    "  importances = np.array(importances)\n",
    "  \n",
    "  importances_report = pd.DataFrame(data={\"column_names\": column_names, \"importances\": importances})\n",
    "  importances_report = importances_report.sort_values(\"importances\", ascending=True)\n",
    "\n",
    "  if mode == \"greater\":\n",
    "    title = \"Al eliminar las columnas con barras hacia la derecha, el valor de la métrica a evaluar aumenta\\n\"\n",
    "    title += \"Al eliminar las columnas con barras hacia la izquierda, el valor de la métrica a evaluar disminuye\"\n",
    "  elif mode == \"lower\":\n",
    "    title = \"Al eliminar las columnas con barras hacia la derecha, el valor de la métrica a evaluar disminuye\\n\"\n",
    "    title += \"Al eliminar las columnas con barras hacia la izquierda, el valor de la métrica a evaluar aumenta\"\n",
    "  else:\n",
    "    raise Exception(\"The value provided for 'mode' is not supported\")\n",
    "\n",
    "  fig = plt.figure(figsize=figsize)\n",
    "  plt.barh(importances_report.column_names, importances_report.importances.values, height=0.75)\n",
    "  plt.axvline(x=0, color=\"r\")\n",
    "  plt.title(title)\n",
    "  fig.tight_layout()\n",
    "  plt.show()\n",
    "\n",
    "  return importances_report"
   ]
  },
  {
   "cell_type": "code",
   "execution_count": 2,
   "id": "45c99c6b",
   "metadata": {},
   "outputs": [],
   "source": [
    "import pandas as pd\n",
    "import numpy as np\n",
    "import matplotlib.pyplot as plt\n",
    "from mpl_toolkits.mplot3d import Axes3D\n",
    "import seaborn as sns\n",
    "from datetime import datetime\n",
    "from sklearn.model_selection import train_test_split\n",
    "from sklearn.linear_model import LinearRegression, LassoLars, Lasso, Ridge\n",
    "from sklearn.preprocessing import MinMaxScaler"
   ]
  },
  {
   "cell_type": "code",
   "execution_count": 3,
   "id": "70d15314",
   "metadata": {},
   "outputs": [],
   "source": [
    "df = pd.read_csv('urbania_data_clean.csv')"
   ]
  },
  {
   "cell_type": "markdown",
   "id": "7e584b2f",
   "metadata": {},
   "source": [
    "# Dropeando Columnas que no aportan al modelo"
   ]
  },
  {
   "cell_type": "code",
   "execution_count": 4,
   "id": "f06551c0",
   "metadata": {},
   "outputs": [],
   "source": [
    "df = df.drop(columns =[\"Descripcion\", \"Anunciante\", \"Fecha_pub\", \"latitud\", \"longitud\", \"Direccion\"], axis = 1)"
   ]
  },
  {
   "cell_type": "code",
   "execution_count": 5,
   "id": "952c7aec",
   "metadata": {},
   "outputs": [
    {
     "name": "stdout",
     "output_type": "stream",
     "text": [
      "<class 'pandas.core.frame.DataFrame'>\n",
      "RangeIndex: 7644 entries, 0 to 7643\n",
      "Columns: 205 entries, Antiguedad to Provincia_Provincia\n",
      "dtypes: float64(11), int64(123), object(71)\n",
      "memory usage: 12.0+ MB\n"
     ]
    }
   ],
   "source": [
    "df.info()"
   ]
  },
  {
   "cell_type": "markdown",
   "id": "2740b80b",
   "metadata": {},
   "source": [
    "# Convirtiendo las variables categoricas a numericas"
   ]
  },
  {
   "cell_type": "code",
   "execution_count": 6,
   "id": "71ca2204",
   "metadata": {},
   "outputs": [],
   "source": [
    "# Luego de revisar cada columna..\n",
    "\n",
    "## NUMERICAS\n",
    "num_cols_originales = [\n",
    "    'Antiguedad',\n",
    "    'NroBanios',\n",
    "    'Nro_pisos',\n",
    "    'Cocheras',\n",
    "    'Dormitorios',\n",
    "    #'fecha_publicacion',\n",
    "    'Precio',\n",
    "    'Area_constr_m2',\n",
    "    'Area_total_m2',\n",
    "\n",
    "]\n",
    "\n",
    "num_cols = [\n",
    "    'Antiguedad',\n",
    "    'NroBanios',\n",
    "    'Nro_pisos',\n",
    "    'Cocheras',\n",
    "    'Dormitorios',\n",
    "    #'fecha_publicacion',\n",
    "    'Precio',\n",
    "    'Area_constr_m2',\n",
    "    'Area_total_m2',\n",
    "    \"ratioConstruccion\",\n",
    "    \"ratioBanios\",\n",
    "    \"ratioDormitorios\",\n",
    "    \"diferenciaAreas\"\n",
    "]\n",
    "\n",
    "col_garma = [\n",
    "    'Cocheras',\n",
    "    'Precio',\n",
    "    'Area_constr_m2',\n",
    "    'Area_total_m2',\n",
    "    \"ratioBanios\",\n",
    "    'NroBanios',\n",
    "]"
   ]
  },
  {
   "cell_type": "code",
   "execution_count": 7,
   "id": "14a6fabc",
   "metadata": {},
   "outputs": [],
   "source": [
    "df = df.sort_values(by = 'fecha_publicacion')"
   ]
  },
  {
   "cell_type": "code",
   "execution_count": 8,
   "id": "34950b4d",
   "metadata": {},
   "outputs": [
    {
     "data": {
      "text/plain": [
       "Index(['Balneario', 'Uso_comercial', 'Uso_profesional', ''Cuarto de servicio'',\n",
       "       ''Deposito'', ''Terraza'', ''Kitchenette'', ''Sala de estar'',\n",
       "       ''Sotano'', ''Patio'', ''anx81tico'', ''Comedor diario'', ''Comedor'',\n",
       "       ''Banio de servicio'', ''Jardanxadn Interno'', ''Walking Closet'',\n",
       "       ''Escritorio'', ''Cocina'', ''Banio independiente'', ''Lavanderanxada'',\n",
       "       ''Balcon'', ''Sala'', ''Closet'', ''Banio de visitas'', ''Agua'',\n",
       "       ''Guardiananxada'', ''Internet'', ''Luz'', ''Cable'',\n",
       "       ''Servicio de Limpieza'', ''Conexion a gas'', ''Sistema de seguridad'',\n",
       "       ''Telefono'', ''Areadeportiva'', ''Piscina'', ''Solarium'',\n",
       "       ''Sala de internet'', ''Sala de cine'', ''Jardanxadn'',\n",
       "       ''Parque interno'', ''Guarderanxada'', ''anx81reas verdes'',\n",
       "       ''Club House'', ''Hall de ingreso'', ''Areade BBQ'', ''Gimnasio'',\n",
       "       ''Areade sauna'', ''Juegos para ninios'', ''Ingreso independiente'',\n",
       "       ''Colegios cercanos'', ''Cerca al mar'',\n",
       "       ''Centros comerciales cercanos'', ''Parques cercanos'',\n",
       "       ''Acceso personas discapacidad'', ''Frente al mar'', ''Desagaue'',\n",
       "       ''Jacuzzi'', ''Chimenea'', ''Intercomunicador'', ''Cerco Electrico'',\n",
       "       ''Parrilla'', ''Aire acondicionado'', ''Amoblado'', ''Sauna'',\n",
       "       ''Calefaccion'', ''Equipado'', ''Terma'', ''Portero electrico'',\n",
       "       ''Cocina con reposteros'', 'fecha_publicacion', 'Area_total_m2_bins'],\n",
       "      dtype='object')"
      ]
     },
     "execution_count": 8,
     "metadata": {},
     "output_type": "execute_result"
    }
   ],
   "source": [
    "df.select_dtypes('object').columns"
   ]
  },
  {
   "cell_type": "markdown",
   "id": "dca2cf16",
   "metadata": {},
   "source": [
    "## DF con solo variables numericas originales"
   ]
  },
  {
   "cell_type": "code",
   "execution_count": 9,
   "id": "6fd08d04",
   "metadata": {},
   "outputs": [],
   "source": [
    "df_num_org = df[num_cols_originales]"
   ]
  },
  {
   "cell_type": "markdown",
   "id": "580f8835",
   "metadata": {},
   "source": [
    "## DF con solo variables numericas"
   ]
  },
  {
   "cell_type": "code",
   "execution_count": 10,
   "id": "8afd4fa1",
   "metadata": {},
   "outputs": [],
   "source": [
    "df_num = df[num_cols]"
   ]
  },
  {
   "cell_type": "markdown",
   "id": "c5f792ff-aff5-482c-b66d-f179557f33f6",
   "metadata": {},
   "source": [
    "## DF sin algunas variables construccion"
   ]
  },
  {
   "cell_type": "code",
   "execution_count": 11,
   "id": "26099fb3-6288-47ce-b229-1033e066af81",
   "metadata": {
    "tags": []
   },
   "outputs": [],
   "source": [
    "df_num_constr = df_num.drop(columns = [\n",
    "    'Area_constr_m2'\n",
    "    #'Area_total_m2',\n",
    "    #\"ratioConstruccion\",\n",
    "    #\"ratioBanios\",\n",
    "    #\"ratioDormitorios\"\n",
    "])"
   ]
  },
  {
   "cell_type": "markdown",
   "id": "f97c5c18",
   "metadata": {},
   "source": [
    "## DF para variables categoricas"
   ]
  },
  {
   "cell_type": "code",
   "execution_count": 12,
   "id": "a0e13324",
   "metadata": {},
   "outputs": [],
   "source": [
    "df_cat = df.drop(columns=['fecha_publicacion', 'Balneario', 'Area_total_m2_bins'])"
   ]
  },
  {
   "cell_type": "code",
   "execution_count": 13,
   "id": "69baca4a",
   "metadata": {},
   "outputs": [],
   "source": [
    "#Obteniendo las columnas numericas para no procesarlas\n",
    "col_num = df_cat.select_dtypes('number').columns.tolist()"
   ]
  },
  {
   "cell_type": "code",
   "execution_count": 14,
   "id": "61a6c072",
   "metadata": {},
   "outputs": [],
   "source": [
    "#Obteniendo las columnas que indican imputacion\n",
    "col_num_imp = []\n",
    "for col in col_num:\n",
    "    if '_IMP' in col:\n",
    "        col_num_imp = col_num_imp + [col]"
   ]
  },
  {
   "cell_type": "code",
   "execution_count": 15,
   "id": "211f544a",
   "metadata": {},
   "outputs": [],
   "source": [
    "#Obteniendo las columnas categoricas para procesar\n",
    "col_cat = df_cat.select_dtypes('object').columns.tolist()"
   ]
  },
  {
   "cell_type": "code",
   "execution_count": 16,
   "id": "4bc219e9",
   "metadata": {},
   "outputs": [],
   "source": [
    "def imputarValor (df, columns, value):\n",
    "    for col in columns:\n",
    "        try:\n",
    "            df[col] = df[col].apply(lambda x: float(value) if x == 'ND' else float(x) )\n",
    "        except:\n",
    "            print(col)\n",
    "    return df"
   ]
  },
  {
   "cell_type": "markdown",
   "id": "13ba4043",
   "metadata": {},
   "source": [
    "### DF con tratando ND con valor 2"
   ]
  },
  {
   "cell_type": "code",
   "execution_count": 17,
   "id": "e36c3fc1",
   "metadata": {},
   "outputs": [],
   "source": [
    "df_cat_2 = df_cat.copy()"
   ]
  },
  {
   "cell_type": "code",
   "execution_count": 18,
   "id": "00bc8cd5",
   "metadata": {},
   "outputs": [],
   "source": [
    "df_cat_2 = imputarValor(df_cat_2, col_cat, 2)"
   ]
  },
  {
   "cell_type": "code",
   "execution_count": 19,
   "id": "7e43ce2c",
   "metadata": {},
   "outputs": [
    {
     "data": {
      "text/plain": [
       "Index([], dtype='object')"
      ]
     },
     "execution_count": 19,
     "metadata": {},
     "output_type": "execute_result"
    }
   ],
   "source": [
    "df_cat_2.select_dtypes('object').columns"
   ]
  },
  {
   "cell_type": "markdown",
   "id": "4061e087",
   "metadata": {},
   "source": [
    "### DF con tratando ND con valor 0"
   ]
  },
  {
   "cell_type": "code",
   "execution_count": 20,
   "id": "3108fc20",
   "metadata": {},
   "outputs": [],
   "source": [
    "df_cat_0 = df_cat.copy()"
   ]
  },
  {
   "cell_type": "code",
   "execution_count": 21,
   "id": "887ed86f",
   "metadata": {},
   "outputs": [],
   "source": [
    "df_cat_0 = imputarValor(df_cat_0, col_cat, 0)"
   ]
  },
  {
   "cell_type": "markdown",
   "id": "668a6e0f",
   "metadata": {},
   "source": [
    "### DF quitando columnas IMP"
   ]
  },
  {
   "cell_type": "code",
   "execution_count": 22,
   "id": "5992c3ba",
   "metadata": {},
   "outputs": [],
   "source": [
    "df_cat_imp = df_cat_2.drop(columns = col_num_imp)"
   ]
  },
  {
   "cell_type": "markdown",
   "id": "8c930062-8e55-460e-bc2a-8a0833714eec",
   "metadata": {
    "tags": []
   },
   "source": [
    "## Correlacion"
   ]
  },
  {
   "cell_type": "code",
   "execution_count": 23,
   "id": "ec62554f-08f0-40b0-b309-6d072f29783c",
   "metadata": {},
   "outputs": [],
   "source": [
    "corrmat = df_num.corr()"
   ]
  },
  {
   "cell_type": "code",
   "execution_count": 24,
   "id": "0c31b5a3-cb19-4749-9322-8d21a31d8f31",
   "metadata": {},
   "outputs": [],
   "source": [
    "columns = corrmat.nlargest(12, 'Precio')['Precio'].index"
   ]
  },
  {
   "cell_type": "code",
   "execution_count": 25,
   "id": "c9d2c7d3-a34a-46b5-b726-4d9d2f2378c9",
   "metadata": {},
   "outputs": [],
   "source": [
    "corrmat = df_num[columns].corr()"
   ]
  },
  {
   "cell_type": "code",
   "execution_count": 26,
   "id": "fa9a84a3-c008-48b8-a355-ca5dded6a11f",
   "metadata": {
    "scrolled": true
   },
   "outputs": [
    {
     "data": {
      "image/png": "[encoded data removed]",
      "text/plain": [
       "<Figure size 720x720 with 2 Axes>"
      ]
     },
     "metadata": {
      "needs_background": "light"
     },
     "output_type": "display_data"
    }
   ],
   "source": [
    "plt.figure(figsize=(10,10))\n",
    "sns.set(font_scale=1.25)\n",
    "heat_map = sns.heatmap(corrmat, cbar=True, annot=True, square=True, fmt='.2f', annot_kws={'size': 10}, yticklabels=columns.values, xticklabels=columns.values)\n",
    "plt.show()"
   ]
  },
  {
   "cell_type": "markdown",
   "id": "8e2222d0-71e8-495a-9af2-47113aae40d2",
   "metadata": {},
   "source": [
    "## DF top 5 corr"
   ]
  },
  {
   "cell_type": "code",
   "execution_count": 27,
   "id": "3974cdd1-0e3d-49c6-9347-f73855bc281d",
   "metadata": {
    "tags": []
   },
   "outputs": [],
   "source": [
    "df_top5corr = df_num[col_garma]"
   ]
  },
  {
   "cell_type": "markdown",
   "id": "29b5f9b6",
   "metadata": {},
   "source": [
    "# Separando dataset en val, test, train"
   ]
  },
  {
   "cell_type": "code",
   "execution_count": 28,
   "id": "3a8e5516",
   "metadata": {},
   "outputs": [],
   "source": [
    "def train_test_val_split(df):\n",
    "    df_val = df.iloc[int(df.shape[0]*0.9):]\n",
    "    df_training = df.iloc[:int(df.shape[0]*0.9)]\n",
    "    df_train, df_test = train_test_split(df_training, random_state = 0, test_size = 0.2)\n",
    "    return df_train, df_test, df_val"
   ]
  },
  {
   "cell_type": "code",
   "execution_count": 29,
   "id": "d8a14881",
   "metadata": {},
   "outputs": [],
   "source": [
    "def x_y_split(df, target):\n",
    "    x =  df.drop(columns = target)\n",
    "    y = df[target].values\n",
    "    return x, y"
   ]
  },
  {
   "cell_type": "code",
   "execution_count": 30,
   "id": "1a2439ac",
   "metadata": {},
   "outputs": [],
   "source": [
    "def fit_model(df_train, df_test, df_val, model, normalize = False):\n",
    "    x_train, y_train = x_y_split(df_train, \"Precio\")\n",
    "    x_test, y_test = x_y_split(df_test, \"Precio\")\n",
    "    x_val, y_val = x_y_split(df_val, \"Precio\")\n",
    "    \n",
    "    if normalize:\n",
    "        y_train = np.log1p(y_train)\n",
    "        y_test = np.log1p(y_test)\n",
    "        y_val = np.log1p(y_val)\n",
    "        \n",
    "    model.fit(x_train, y_train)\n",
    "    print(\"train: \",model.score(x_train, y_train))\n",
    "    print(\"test: \",model.score(x_test, y_test))\n",
    "    print(\"val: \",model.score(x_val, y_val))\n",
    "    return model"
   ]
  },
  {
   "cell_type": "markdown",
   "id": "5806cc21",
   "metadata": {},
   "source": [
    "## Modelo 1: variables numericas originales"
   ]
  },
  {
   "cell_type": "code",
   "execution_count": 31,
   "id": "6f556f83",
   "metadata": {},
   "outputs": [],
   "source": [
    "df_train, df_test, df_val = train_test_val_split(df_num_org)"
   ]
  },
  {
   "cell_type": "code",
   "execution_count": 32,
   "id": "403cde4b",
   "metadata": {},
   "outputs": [
    {
     "name": "stdout",
     "output_type": "stream",
     "text": [
      "train:  0.33703055401273463\n",
      "test:  0.3258099317251194\n",
      "val:  0.3067394073643903\n"
     ]
    }
   ],
   "source": [
    "model = fit_model(df_train, df_test, df_val, LinearRegression())"
   ]
  },
  {
   "cell_type": "markdown",
   "id": "083c477a",
   "metadata": {},
   "source": [
    "## Modelo 2: variables numericas"
   ]
  },
  {
   "cell_type": "code",
   "execution_count": 33,
   "id": "04b7f6ea",
   "metadata": {},
   "outputs": [],
   "source": [
    "df_train, df_test, df_val = train_test_val_split(df_num)"
   ]
  },
  {
   "cell_type": "code",
   "execution_count": 34,
   "id": "470736fa",
   "metadata": {},
   "outputs": [
    {
     "name": "stdout",
     "output_type": "stream",
     "text": [
      "train:  0.41898649286193446\n",
      "test:  0.27162302978173725\n",
      "val:  0.3946752527436228\n"
     ]
    }
   ],
   "source": [
    "model = fit_model(df_train, df_test, df_val, LinearRegression())"
   ]
  },
  {
   "cell_type": "markdown",
   "id": "ddcba5d3-18fc-4c56-8802-95bc8179b594",
   "metadata": {
    "tags": []
   },
   "source": [
    "## Modelo 3: primeras 5 corr"
   ]
  },
  {
   "cell_type": "code",
   "execution_count": 35,
   "id": "02a358b7-d5c0-49f5-ab1c-70a86c15e7e8",
   "metadata": {},
   "outputs": [],
   "source": [
    "df_train, df_test, df_val = train_test_val_split(df_top5corr)"
   ]
  },
  {
   "cell_type": "code",
   "execution_count": 36,
   "id": "b0380df5-e1ee-4564-9569-4cbdf58e93e5",
   "metadata": {},
   "outputs": [
    {
     "name": "stdout",
     "output_type": "stream",
     "text": [
      "train:  0.3370000446611974\n",
      "test:  0.3236877876449833\n",
      "val:  0.30686457858659355\n"
     ]
    }
   ],
   "source": [
    "model = fit_model(df_train, df_test, df_val, LinearRegression())"
   ]
  },
  {
   "cell_type": "markdown",
   "id": "311a785d",
   "metadata": {},
   "source": [
    "## Modelo 4: variables numericas normalizando precio"
   ]
  },
  {
   "cell_type": "code",
   "execution_count": 37,
   "id": "ac7e2956",
   "metadata": {},
   "outputs": [],
   "source": [
    "df_train, df_test, df_val = train_test_val_split(df_num)"
   ]
  },
  {
   "cell_type": "code",
   "execution_count": 38,
   "id": "afd80ec6",
   "metadata": {},
   "outputs": [
    {
     "name": "stdout",
     "output_type": "stream",
     "text": [
      "train:  0.5362166581335344\n",
      "test:  0.39369003442246375\n",
      "val:  0.5198767703096197\n"
     ]
    }
   ],
   "source": [
    "model = fit_model(df_train, df_test, df_val, LinearRegression(), True)"
   ]
  },
  {
   "cell_type": "markdown",
   "id": "964b6192",
   "metadata": {},
   "source": [
    "## Utilizando el feature importance con variables numericas"
   ]
  },
  {
   "cell_type": "code",
   "execution_count": 39,
   "id": "44b1af53",
   "metadata": {},
   "outputs": [],
   "source": [
    "df_train, df_test, df_val = train_test_val_split(df_num)"
   ]
  },
  {
   "cell_type": "code",
   "execution_count": 40,
   "id": "6ed4f741",
   "metadata": {},
   "outputs": [],
   "source": [
    "x_train, y_train = x_y_split(df_train, \"Precio\")\n",
    "x_test, y_test = x_y_split(df_test, \"Precio\")\n",
    "x_val, y_val = x_y_split(df_val, \"Precio\")"
   ]
  },
  {
   "cell_type": "code",
   "execution_count": 41,
   "id": "e5e41c84",
   "metadata": {},
   "outputs": [],
   "source": [
    "column_names = x_train.columns.tolist()"
   ]
  },
  {
   "cell_type": "code",
   "execution_count": 42,
   "id": "d48457c8",
   "metadata": {},
   "outputs": [],
   "source": [
    "#Escalamiento de las variables\n",
    "scaler = MinMaxScaler()\n",
    "\n",
    "x_train = scaler.fit_transform(x_train)\n",
    "x_test = scaler.transform(x_test)\n",
    "x_val = scaler.transform(x_val)"
   ]
  },
  {
   "cell_type": "code",
   "execution_count": 43,
   "id": "77d99044",
   "metadata": {},
   "outputs": [],
   "source": [
    "model = LinearRegression()"
   ]
  },
  {
   "cell_type": "code",
   "execution_count": 44,
   "id": "69a1f5a7",
   "metadata": {},
   "outputs": [
    {
     "data": {
      "text/plain": [
       "LinearRegression()"
      ]
     },
     "execution_count": 44,
     "metadata": {},
     "output_type": "execute_result"
    }
   ],
   "source": [
    "model.fit(x_train, y_train)"
   ]
  },
  {
   "cell_type": "code",
   "execution_count": 45,
   "id": "a73fb800",
   "metadata": {},
   "outputs": [
    {
     "data": {
      "image/png": "[encoded data removed]",
      "text/plain": [
       "<Figure size 864x576 with 1 Axes>"
      ]
     },
     "metadata": {},
     "output_type": "display_data"
    }
   ],
   "source": [
    "from sklearn.metrics import r2_score\n",
    "importances_report = get_columns_importance(\n",
    "                                              model,\n",
    "                                              x_train=x_train,\n",
    "                                              y_train=y_train,\n",
    "                                              x_to_verify=x_test,\n",
    "                                              y_to_verify=y_test,\n",
    "                                              metric_to_evaluate=r2_score,\n",
    "                                              mode=\"greater\",\n",
    "                                              column_names=column_names\n",
    "                                            )"
   ]
  },
  {
   "cell_type": "markdown",
   "id": "4cf56de9",
   "metadata": {},
   "source": [
    "## Modelo 5: variables categoricas con imputacion 2"
   ]
  },
  {
   "cell_type": "code",
   "execution_count": 46,
   "id": "1108e185",
   "metadata": {},
   "outputs": [],
   "source": [
    "df_train, df_test, df_val = train_test_val_split(df_cat_2)"
   ]
  },
  {
   "cell_type": "code",
   "execution_count": 47,
   "id": "0532df17",
   "metadata": {},
   "outputs": [
    {
     "name": "stdout",
     "output_type": "stream",
     "text": [
      "train:  0.5445619206047418\n",
      "test:  0.5119694582260956\n",
      "val:  0.5146282645487903\n"
     ]
    }
   ],
   "source": [
    "model = fit_model(df_train, df_test, df_val, LinearRegression())"
   ]
  },
  {
   "cell_type": "markdown",
   "id": "0696ff49",
   "metadata": {},
   "source": [
    "## Modelo 6: variables categoricas con imputacion 0"
   ]
  },
  {
   "cell_type": "code",
   "execution_count": 48,
   "id": "fdbb9417",
   "metadata": {},
   "outputs": [],
   "source": [
    "df_train, df_test, df_val = train_test_val_split(df_cat_0)"
   ]
  },
  {
   "cell_type": "code",
   "execution_count": 49,
   "id": "16a8b43a",
   "metadata": {},
   "outputs": [
    {
     "name": "stdout",
     "output_type": "stream",
     "text": [
      "train:  0.5445618742325352\n",
      "test:  0.5119319264796751\n",
      "val:  0.5145940702429037\n"
     ]
    }
   ],
   "source": [
    "model = fit_model(df_train, df_test, df_val, LinearRegression())"
   ]
  },
  {
   "cell_type": "markdown",
   "id": "1e3ec828",
   "metadata": {},
   "source": [
    "## Modelo 7: variables categoricas quitando columnas de imputacion"
   ]
  },
  {
   "cell_type": "code",
   "execution_count": 50,
   "id": "768ab67b",
   "metadata": {},
   "outputs": [],
   "source": [
    "df_train, df_test, df_val = train_test_val_split(df_cat_imp)"
   ]
  },
  {
   "cell_type": "code",
   "execution_count": 51,
   "id": "86c132b3",
   "metadata": {},
   "outputs": [
    {
     "name": "stdout",
     "output_type": "stream",
     "text": [
      "train:  0.5436696072221514\n",
      "test:  0.5118486968760161\n",
      "val:  0.5182184619285157\n"
     ]
    }
   ],
   "source": [
    "model = fit_model(df_train, df_test, df_val, LinearRegression())"
   ]
  },
  {
   "cell_type": "markdown",
   "id": "0f45859a",
   "metadata": {},
   "source": [
    "## Modelo 8: compuesto por los mejores modelos con LinearRegression"
   ]
  },
  {
   "cell_type": "code",
   "execution_count": 52,
   "id": "c165ed3a",
   "metadata": {},
   "outputs": [],
   "source": [
    "df_train, df_test, df_val = train_test_val_split(df_cat_2)"
   ]
  },
  {
   "cell_type": "code",
   "execution_count": 53,
   "id": "c3ae4328",
   "metadata": {},
   "outputs": [
    {
     "name": "stdout",
     "output_type": "stream",
     "text": [
      "train:  0.7691184985102495\n",
      "test:  0.729510152840152\n",
      "val:  0.7438376418092917\n"
     ]
    }
   ],
   "source": [
    "model = fit_model(df_train, df_test, df_val, LinearRegression(), True)"
   ]
  },
  {
   "cell_type": "markdown",
   "id": "a2aebcba",
   "metadata": {},
   "source": [
    "## Modelo 9: compuesto por los mejores modelos con LassoLars"
   ]
  },
  {
   "cell_type": "code",
   "execution_count": 54,
   "id": "8b5ccb92",
   "metadata": {},
   "outputs": [],
   "source": [
    "df_train, df_test, df_val = train_test_val_split(df_cat_2)"
   ]
  },
  {
   "cell_type": "code",
   "execution_count": 55,
   "id": "a19b6c52",
   "metadata": {},
   "outputs": [
    {
     "name": "stdout",
     "output_type": "stream",
     "text": [
      "train:  0.46399457546675493\n",
      "test:  0.43574580363856796\n",
      "val:  0.4413762024851464\n"
     ]
    }
   ],
   "source": [
    "model = fit_model(df_train, df_test, df_val, LassoLars(alpha=.1, normalize=False), True)"
   ]
  },
  {
   "cell_type": "markdown",
   "id": "a8865ccf",
   "metadata": {},
   "source": [
    "## Modelo 10: compuesto por los mejores modelos con RandomForestRegressor"
   ]
  },
  {
   "cell_type": "code",
   "execution_count": 56,
   "id": "c06496f3",
   "metadata": {},
   "outputs": [],
   "source": [
    "from sklearn.ensemble import RandomForestRegressor\n",
    "df_train, df_test, df_val = train_test_val_split(df_cat_2)\n",
    "model = RandomForestRegressor(n_estimators=5, random_state=0)"
   ]
  },
  {
   "cell_type": "code",
   "execution_count": 57,
   "id": "617137c4",
   "metadata": {},
   "outputs": [
    {
     "name": "stdout",
     "output_type": "stream",
     "text": [
      "train:  0.9521839152302041\n",
      "test:  0.7746223202640926\n",
      "val:  0.7835134849094705\n"
     ]
    }
   ],
   "source": [
    "model = fit_model(df_train, df_test, df_val, model, True)"
   ]
  },
  {
   "cell_type": "markdown",
   "id": "5f69097e",
   "metadata": {},
   "source": [
    "## Modelo 11: compuesto por los mejores modelos con Ridge"
   ]
  },
  {
   "cell_type": "code",
   "execution_count": 58,
   "id": "537ebd9e",
   "metadata": {},
   "outputs": [],
   "source": [
    "df_train, df_test, df_val = train_test_val_split(df_cat_2)\n",
    "model = Ridge(alpha=1.0)"
   ]
  },
  {
   "cell_type": "code",
   "execution_count": 59,
   "id": "01b8cfa2",
   "metadata": {},
   "outputs": [
    {
     "name": "stdout",
     "output_type": "stream",
     "text": [
      "train:  0.7691025976255357\n",
      "test:  0.7298760324938027\n",
      "val:  0.7438167056523606\n"
     ]
    }
   ],
   "source": [
    "model = fit_model(df_train, df_test, df_val, model, True)"
   ]
  },
  {
   "cell_type": "markdown",
   "id": "b5786e4a",
   "metadata": {},
   "source": [
    "## Modelo 12: compuesto por los mejores modelos con Lasso"
   ]
  },
  {
   "cell_type": "code",
   "execution_count": 60,
   "id": "7676a240",
   "metadata": {},
   "outputs": [],
   "source": [
    "df_train, df_test, df_val = train_test_val_split(df_cat_2)\n",
    "model = Lasso(alpha=0.1)"
   ]
  },
  {
   "cell_type": "code",
   "execution_count": 61,
   "id": "0530c0c7",
   "metadata": {},
   "outputs": [
    {
     "name": "stdout",
     "output_type": "stream",
     "text": [
      "train:  0.46399435834720315\n",
      "test:  0.43574279576913677\n",
      "val:  0.4413713900960332\n"
     ]
    }
   ],
   "source": [
    "model = fit_model(df_train, df_test, df_val, model, True)"
   ]
  },
  {
   "cell_type": "markdown",
   "id": "82a7da07",
   "metadata": {},
   "source": [
    "## Modelo 13: compuesto por los mejores modelos con XGBRegressor"
   ]
  },
  {
   "cell_type": "code",
   "execution_count": 119,
   "id": "dc1ab745",
   "metadata": {},
   "outputs": [],
   "source": [
    "from xgboost import XGBRegressor\n",
    "from sklearn.metrics import r2_score\n",
    "\n",
    "df_train, df_test, df_val = train_test_val_split(df_cat_2)\n",
    "model = XGBRegressor(tree_method=\"hist\", eval_metric = r2_score)"
   ]
  },
  {
   "cell_type": "code",
   "execution_count": 120,
   "id": "f0d3d144",
   "metadata": {},
   "outputs": [
    {
     "name": "stdout",
     "output_type": "stream",
     "text": [
      "train:  0.9670327854744787\n",
      "test:  0.8380338078546273\n",
      "val:  0.8254673736467446\n"
     ]
    }
   ],
   "source": [
    "model = fit_model(df_train, df_test, df_val, model, True)"
   ]
  },
  {
   "cell_type": "code",
   "execution_count": 121,
   "id": "d6cf7cae",
   "metadata": {},
   "outputs": [],
   "source": [
    "feature_importances = pd.Series(dict(zip(df_train.drop(columns=\"Precio\").columns, model.feature_importances_)))\n",
    "feature_importances = feature_importances.sort_values(ascending=False)"
   ]
  },
  {
   "cell_type": "code",
   "execution_count": 122,
   "id": "bf3882c2",
   "metadata": {},
   "outputs": [
    {
     "data": {
      "image/png": "[encoded data removed]",
      "text/plain": [
       "<Figure size 576x432 with 1 Axes>"
      ]
     },
     "metadata": {},
     "output_type": "display_data"
    }
   ],
   "source": [
    "plt.figure(figsize=(8,6))\n",
    "feature_importances[:25].plot.barh()\n",
    "plt.show()"
   ]
  },
  {
   "cell_type": "markdown",
   "id": "c67b7b79",
   "metadata": {},
   "source": [
    "# Next Steps"
   ]
  },
  {
   "cell_type": "markdown",
   "id": "9b4fc61e",
   "metadata": {},
   "source": [
    "- Evaluar predicciones y su distribucion\n",
    "- Eliminar variables poco relevantes\n",
    "- Optimizar hiper parametros\n",
    "- Aplicar Regularizacion"
   ]
  },
  {
   "cell_type": "markdown",
   "id": "f56a7cc3",
   "metadata": {},
   "source": [
    "### 1. Evaluar resultados del modelo"
   ]
  },
  {
   "cell_type": "code",
   "execution_count": 123,
   "id": "615b00d6",
   "metadata": {},
   "outputs": [],
   "source": [
    "df_test[\"prediction\"] = np.exp(model.predict(df_test.drop(columns=\"Precio\")))-1"
   ]
  },
  {
   "cell_type": "code",
   "execution_count": 124,
   "id": "3b75f007",
   "metadata": {},
   "outputs": [],
   "source": [
    "df_data=pd.DataFrame({\n",
    "    \"precio\": np.concatenate([df_test[\"Precio\"],df_test[\"prediction\"]]),\n",
    "    \"type\": ([\"target\"]*df_test.shape[0] + [\"prediction\"]*df_test.shape[0])\n",
    "})"
   ]
  },
  {
   "cell_type": "code",
   "execution_count": 125,
   "id": "983dd463",
   "metadata": {},
   "outputs": [
    {
     "data": {
      "image/png": "[encoded data removed]",
      "text/plain": [
       "<Figure size 649.125x360 with 1 Axes>"
      ]
     },
     "metadata": {},
     "output_type": "display_data"
    }
   ],
   "source": [
    "sns.displot(data=df_data, x='precio', hue='type', kind='kde', fill=True, palette=sns.color_palette('bright')[:2], height=5, aspect=1.5)\n",
    "plt.title(\"Distribución de predicciones vs precios reales\")\n",
    "plt.show()\n"
   ]
  },
  {
   "cell_type": "markdown",
   "id": "f03c0f89",
   "metadata": {},
   "source": [
    "### 2. Eliminar variables poco relevantes"
   ]
  },
  {
   "cell_type": "code",
   "execution_count": 132,
   "id": "29c190b6",
   "metadata": {},
   "outputs": [
    {
     "data": {
      "text/plain": [
       "(201,)"
      ]
     },
     "execution_count": 132,
     "metadata": {},
     "output_type": "execute_result"
    }
   ],
   "source": [
    "feature_importances.shape"
   ]
  },
  {
   "cell_type": "code",
   "execution_count": 130,
   "id": "3725d69d",
   "metadata": {},
   "outputs": [
    {
     "data": {
      "text/plain": [
       "(120,)"
      ]
     },
     "execution_count": 130,
     "metadata": {},
     "output_type": "execute_result"
    }
   ],
   "source": [
    "feature_importances[feature_importances>0].shape"
   ]
  },
  {
   "cell_type": "markdown",
   "id": "4fcd39af",
   "metadata": {},
   "source": [
    "#### Prueba de entrenamiento eliminando 81 variables con importancia 0"
   ]
  },
  {
   "cell_type": "code",
   "execution_count": 140,
   "id": "ed713dc2",
   "metadata": {},
   "outputs": [],
   "source": [
    "important_cols = feature_importances[feature_importances>0].index.tolist()"
   ]
  },
  {
   "cell_type": "code",
   "execution_count": 170,
   "id": "c3fe1cf4",
   "metadata": {},
   "outputs": [
    {
     "data": {
      "text/plain": [
       "120"
      ]
     },
     "execution_count": 170,
     "metadata": {},
     "output_type": "execute_result"
    }
   ],
   "source": [
    "len(important_cols)"
   ]
  },
  {
   "cell_type": "code",
   "execution_count": 141,
   "id": "5c85b867",
   "metadata": {},
   "outputs": [],
   "source": [
    "from xgboost import XGBRegressor\n",
    "from sklearn.metrics import r2_score\n",
    "\n",
    "df_train, df_test, df_val = train_test_val_split(df_cat_2[important_cols+[\"Precio\"]])\n",
    "model = XGBRegressor(tree_method=\"hist\", eval_metric = r2_score)"
   ]
  },
  {
   "cell_type": "code",
   "execution_count": 143,
   "id": "d8479785",
   "metadata": {},
   "outputs": [
    {
     "name": "stdout",
     "output_type": "stream",
     "text": [
      "train:  0.9670327854744787\n",
      "test:  0.840315753161206\n",
      "val:  0.82174994107746\n"
     ]
    }
   ],
   "source": [
    "model = fit_model(df_train, df_test, df_val, model, True)"
   ]
  },
  {
   "cell_type": "markdown",
   "id": "1287d4c6",
   "metadata": {},
   "source": [
    "- Se observa que el desempeño del modelo se mantiene e incluso supera al que utiliza todas\n",
    "- Se evaluará eliminar algunas otras variables"
   ]
  },
  {
   "cell_type": "code",
   "execution_count": 145,
   "id": "44b8379f",
   "metadata": {},
   "outputs": [],
   "source": [
    "relevant_features = feature_importances[feature_importances>0]"
   ]
  },
  {
   "cell_type": "markdown",
   "id": "732cb749",
   "metadata": {},
   "source": [
    "- Prueba dejando las variables que acumulan el 80% de la importancia"
   ]
  },
  {
   "cell_type": "code",
   "execution_count": 180,
   "id": "e65ece11",
   "metadata": {},
   "outputs": [],
   "source": [
    "relevant_cols = relevant_features.cumsum().loc[lambda x: x<0.80].index.tolist()"
   ]
  },
  {
   "cell_type": "code",
   "execution_count": 181,
   "id": "150132d1",
   "metadata": {},
   "outputs": [
    {
     "data": {
      "text/plain": [
       "45"
      ]
     },
     "execution_count": 181,
     "metadata": {},
     "output_type": "execute_result"
    }
   ],
   "source": [
    "len(relevant_cols)"
   ]
  },
  {
   "cell_type": "code",
   "execution_count": 182,
   "id": "cba58603",
   "metadata": {},
   "outputs": [],
   "source": [
    "df_train, df_test, df_val = train_test_val_split(df_cat_2[relevant_cols+[\"Precio\"]])\n",
    "model = XGBRegressor(tree_method=\"hist\", eval_metric = r2_score)"
   ]
  },
  {
   "cell_type": "code",
   "execution_count": 183,
   "id": "22604659",
   "metadata": {},
   "outputs": [
    {
     "name": "stdout",
     "output_type": "stream",
     "text": [
      "train:  0.9540587151419349\n",
      "test:  0.834157846539913\n",
      "val:  0.8245109877724572\n"
     ]
    }
   ],
   "source": [
    "model = fit_model(df_train, df_test, df_val, model, True)"
   ]
  },
  {
   "cell_type": "markdown",
   "id": "290f9e9d",
   "metadata": {},
   "source": [
    "- Se observa que el train y test disminuyen ligeramente (al rededor de 1%) en el score R2, sin embargo el validation R2 aumenta. Por otro lado, con este último enfoque se habrían eliminado más de 160 variables sin comprometer el desempeño del modelo. Esto permite al modelo ser más sencillo de interpretar y explicar, pues utiliza menos variables. Es por ello que nos quedaremos con el último modelo, que solo utiliza las 45 variables más importantes."
   ]
  },
  {
   "cell_type": "code",
   "execution_count": 191,
   "id": "9a1418fe",
   "metadata": {
    "scrolled": true
   },
   "outputs": [
    {
     "data": {
      "text/plain": [
       "['Area_total_m2',\n",
       " \"'anx81reas verdes'\",\n",
       " 'Distrito_SanIsidro',\n",
       " 'Distrito_SantiagoDeSurco',\n",
       " \"'Cuarto de servicio'\",\n",
       " 'Distrito_LaMolina',\n",
       " 'Distrito_Miraflores',\n",
       " \"'Agua'\",\n",
       " 'Distrito_Comas',\n",
       " 'Distrito_SanMartinDePorres',\n",
       " 'Distrito_SanJuanDeLurigancho',\n",
       " 'Distrito_Carabayllo',\n",
       " 'Distrito_Lurin',\n",
       " 'Tipo_Casa de campo',\n",
       " 'Distrito_Otros',\n",
       " \"'Guardiananxada'\",\n",
       " 'Distrito_SanBorja',\n",
       " 'Distrito_Chaclacayo',\n",
       " 'Tipo_Casa',\n",
       " 'Distrito_Cieneguilla',\n",
       " 'Distrito_CerroAzul',\n",
       " \"'Sala de estar'\",\n",
       " 'Cocheras',\n",
       " 'Provincia_Lima',\n",
       " 'Tipo_Casa de Playa en condominio',\n",
       " \"'Banio de servicio'\",\n",
       " 'Distrito_Mala',\n",
       " \"'Luz'\",\n",
       " 'diferenciaAreas',\n",
       " 'Luminosidad_IMP',\n",
       " 'Distrito_MagdalenaDelMar',\n",
       " \"'Sala de internet'\",\n",
       " 'Distrito_Asia',\n",
       " 'Distrito_Chorrillos',\n",
       " \"'Areade BBQ'\",\n",
       " 'NroBanios',\n",
       " \"'Balcon'\",\n",
       " 'Distrito_Pucusana',\n",
       " \"'Chimenea'\",\n",
       " 'Tipo_Casa en condominio',\n",
       " 'Distrito_CercadoDeLima',\n",
       " \"'Juegos para ninios'\",\n",
       " \"'Aire acondicionado'\",\n",
       " 'Area_constr_m2',\n",
       " \"'Guarderanxada'\"]"
      ]
     },
     "execution_count": 191,
     "metadata": {},
     "output_type": "execute_result"
    }
   ],
   "source": [
    "relevant_cols"
   ]
  },
  {
   "cell_type": "markdown",
   "id": "00d87854",
   "metadata": {},
   "source": [
    "### 3. Optimizacion de hiper parametros"
   ]
  },
  {
   "cell_type": "code",
   "execution_count": 400,
   "id": "a4c85b39",
   "metadata": {},
   "outputs": [],
   "source": [
    "from scipy.stats import randint as sp_randint\n",
    "from scipy.stats import uniform as sp_uniform\n",
    "from sklearn.model_selection import RandomizedSearchCV"
   ]
  },
  {
   "cell_type": "code",
   "execution_count": 401,
   "id": "58ee8b2a",
   "metadata": {},
   "outputs": [],
   "source": [
    "df_train, df_test, df_val = train_test_val_split(df_cat_2[relevant_cols+[\"Precio\"]])"
   ]
  },
  {
   "cell_type": "code",
   "execution_count": 402,
   "id": "fabdc72e",
   "metadata": {},
   "outputs": [
    {
     "data": {
      "text/plain": [
       "(5503, 46)"
      ]
     },
     "execution_count": 402,
     "metadata": {},
     "output_type": "execute_result"
    }
   ],
   "source": [
    "df_train.shape"
   ]
  },
  {
   "cell_type": "code",
   "execution_count": 308,
   "id": "c399f6ee",
   "metadata": {},
   "outputs": [],
   "source": [
    "x_train, y_train = x_y_split(df_train, \"Precio\")\n",
    "x_test, y_test = x_y_split(df_test, \"Precio\")\n",
    "x_val, y_val = x_y_split(df_val, \"Precio\")\n",
    "\n",
    "\n",
    "y_train = np.log1p(y_train)\n",
    "y_test = np.log1p(y_test)\n",
    "y_val = np.log1p(y_val)"
   ]
  },
  {
   "cell_type": "code",
   "execution_count": 360,
   "id": "3091b94a",
   "metadata": {},
   "outputs": [],
   "source": [
    "model = XGBRegressor(tree_method=\"hist\", n_estimators=1000, eval_metric= r2_score)"
   ]
  },
  {
   "cell_type": "code",
   "execution_count": 361,
   "id": "5f23fb23",
   "metadata": {},
   "outputs": [],
   "source": [
    "fit_params = {  \n",
    "        \"eval_set\": [(x_test, y_test)],\n",
    "        \"verbose\": 1000,\n",
    "    }"
   ]
  },
  {
   "cell_type": "code",
   "execution_count": 378,
   "id": "638cb52c",
   "metadata": {},
   "outputs": [],
   "source": [
    "param_test = {\n",
    "        \"max_depth\": sp_randint(3, 9),\n",
    "        \"n_estimators\": [1000,5000,10000],\n",
    "        \"min_child_weight\": [1e-5, 1e-3, 1e-2, 1e-1, 1, 1e1, 1e2, 1e3, 1e4],\n",
    "        \"learning_rate\": sp_uniform(loc=0.01, scale=0.05),\n",
    "        \"subsample\": sp_uniform(loc=0.2, scale=0.8),\n",
    "        \"colsample_bytree\": sp_uniform(loc=0.4, scale=0.6),\n",
    "        \"reg_alpha\": [0, 1e-1, 1e-2, 5e-2, 0.5, 0.25, 1, 2, 5, 7, 10, 50, 100],\n",
    "        \"reg_lambda\": [0, 1e-1, 1e-2, 5e-2, 0.5, 0.25, 1, 5, 10, 20, 50, 100],\n",
    "    }"
   ]
  },
  {
   "cell_type": "code",
   "execution_count": 379,
   "id": "dfbf49f3",
   "metadata": {},
   "outputs": [],
   "source": [
    "gs = RandomizedSearchCV(\n",
    "        estimator=model,\n",
    "        param_distributions=param_test,\n",
    "        n_iter=3,\n",
    "        cv=3,\n",
    "        refit=True,\n",
    "        random_state=0,\n",
    "        verbose=True,\n",
    "    )"
   ]
  },
  {
   "cell_type": "code",
   "execution_count": 380,
   "id": "eb0abe64",
   "metadata": {
    "scrolled": true
   },
   "outputs": [
    {
     "name": "stdout",
     "output_type": "stream",
     "text": [
      "Fitting 3 folds for each of 3 candidates, totalling 9 fits\n",
      "[0]\tvalidation_0-rmse:12.20291\tvalidation_0-r2_score:-216.23734\n",
      "[1000]\tvalidation_0-rmse:0.34082\tvalidation_0-r2_score:0.83055\n",
      "[2000]\tvalidation_0-rmse:0.34721\tvalidation_0-r2_score:0.82413\n",
      "[3000]\tvalidation_0-rmse:0.34999\tvalidation_0-r2_score:0.82131\n",
      "[4000]\tvalidation_0-rmse:0.35131\tvalidation_0-r2_score:0.81995\n",
      "[4999]\tvalidation_0-rmse:0.35211\tvalidation_0-r2_score:0.81913\n",
      "[0]\tvalidation_0-rmse:12.20323\tvalidation_0-r2_score:-216.24890\n",
      "[1000]\tvalidation_0-rmse:0.34315\tvalidation_0-r2_score:0.82822\n",
      "[2000]\tvalidation_0-rmse:0.34926\tvalidation_0-r2_score:0.82205\n",
      "[3000]\tvalidation_0-rmse:0.35154\tvalidation_0-r2_score:0.81972\n",
      "[4000]\tvalidation_0-rmse:0.35240\tvalidation_0-r2_score:0.81883\n",
      "[4999]\tvalidation_0-rmse:0.35275\tvalidation_0-r2_score:0.81847\n",
      "[0]\tvalidation_0-rmse:12.20271\tvalidation_0-r2_score:-216.23039\n",
      "[1000]\tvalidation_0-rmse:0.33842\tvalidation_0-r2_score:0.83292\n",
      "[2000]\tvalidation_0-rmse:0.34669\tvalidation_0-r2_score:0.82466\n",
      "[3000]\tvalidation_0-rmse:0.35068\tvalidation_0-r2_score:0.82059\n",
      "[4000]\tvalidation_0-rmse:0.35241\tvalidation_0-r2_score:0.81883\n",
      "[4999]\tvalidation_0-rmse:0.35315\tvalidation_0-r2_score:0.81806\n",
      "[0]\tvalidation_0-rmse:12.62303\tvalidation_0-r2_score:-231.45302\n",
      "[1000]\tvalidation_0-rmse:0.33122\tvalidation_0-r2_score:0.83995\n",
      "[2000]\tvalidation_0-rmse:0.32829\tvalidation_0-r2_score:0.84277\n",
      "[3000]\tvalidation_0-rmse:0.32993\tvalidation_0-r2_score:0.84120\n",
      "[4000]\tvalidation_0-rmse:0.33129\tvalidation_0-r2_score:0.83989\n",
      "[5000]\tvalidation_0-rmse:0.33254\tvalidation_0-r2_score:0.83868\n",
      "[6000]\tvalidation_0-rmse:0.33353\tvalidation_0-r2_score:0.83771\n",
      "[7000]\tvalidation_0-rmse:0.33457\tvalidation_0-r2_score:0.83670\n",
      "[8000]\tvalidation_0-rmse:0.33543\tvalidation_0-r2_score:0.83586\n",
      "[9000]\tvalidation_0-rmse:0.33615\tvalidation_0-r2_score:0.83515\n",
      "[9999]\tvalidation_0-rmse:0.33687\tvalidation_0-r2_score:0.83445\n",
      "[0]\tvalidation_0-rmse:12.62305\tvalidation_0-r2_score:-231.45358\n",
      "[1000]\tvalidation_0-rmse:0.33761\tvalidation_0-r2_score:0.83372\n",
      "[2000]\tvalidation_0-rmse:0.33510\tvalidation_0-r2_score:0.83618\n",
      "[3000]\tvalidation_0-rmse:0.33663\tvalidation_0-r2_score:0.83469\n",
      "[4000]\tvalidation_0-rmse:0.33762\tvalidation_0-r2_score:0.83371\n",
      "[5000]\tvalidation_0-rmse:0.33920\tvalidation_0-r2_score:0.83215\n",
      "[6000]\tvalidation_0-rmse:0.34030\tvalidation_0-r2_score:0.83106\n",
      "[7000]\tvalidation_0-rmse:0.34124\tvalidation_0-r2_score:0.83013\n",
      "[8000]\tvalidation_0-rmse:0.34209\tvalidation_0-r2_score:0.82928\n",
      "[9000]\tvalidation_0-rmse:0.34286\tvalidation_0-r2_score:0.82851\n",
      "[9999]\tvalidation_0-rmse:0.34359\tvalidation_0-r2_score:0.82778\n",
      "[0]\tvalidation_0-rmse:12.62289\tvalidation_0-r2_score:-231.44783\n",
      "[1000]\tvalidation_0-rmse:0.33792\tvalidation_0-r2_score:0.83341\n",
      "[2000]\tvalidation_0-rmse:0.33612\tvalidation_0-r2_score:0.83519\n",
      "[3000]\tvalidation_0-rmse:0.33783\tvalidation_0-r2_score:0.83351\n",
      "[4000]\tvalidation_0-rmse:0.33976\tvalidation_0-r2_score:0.83159\n",
      "[5000]\tvalidation_0-rmse:0.34154\tvalidation_0-r2_score:0.82982\n",
      "[6000]\tvalidation_0-rmse:0.34295\tvalidation_0-r2_score:0.82842\n",
      "[7000]\tvalidation_0-rmse:0.34414\tvalidation_0-r2_score:0.82723\n",
      "[8000]\tvalidation_0-rmse:0.34530\tvalidation_0-r2_score:0.82605\n",
      "[9000]\tvalidation_0-rmse:0.34642\tvalidation_0-r2_score:0.82493\n",
      "[9999]\tvalidation_0-rmse:0.34743\tvalidation_0-r2_score:0.82391\n",
      "[0]\tvalidation_0-rmse:12.12584\tvalidation_0-r2_score:-213.50209\n",
      "[999]\tvalidation_0-rmse:0.32692\tvalidation_0-r2_score:0.84409\n",
      "[0]\tvalidation_0-rmse:12.12549\tvalidation_0-r2_score:-213.48979\n",
      "[999]\tvalidation_0-rmse:0.33295\tvalidation_0-r2_score:0.83827\n",
      "[0]\tvalidation_0-rmse:12.12511\tvalidation_0-r2_score:-213.47624\n",
      "[999]\tvalidation_0-rmse:0.33461\tvalidation_0-r2_score:0.83666\n",
      "[0]\tvalidation_0-rmse:12.12543\tvalidation_0-r2_score:-213.48754\n",
      "[999]\tvalidation_0-rmse:0.32455\tvalidation_0-r2_score:0.84634\n"
     ]
    },
    {
     "data": {
      "text/plain": [
       "RandomizedSearchCV(cv=3,\n",
       "                   estimator=XGBRegressor(base_score=0.5, booster='gbtree',\n",
       "                                          callbacks=None, colsample_bylevel=1,\n",
       "                                          colsample_bynode=1,\n",
       "                                          colsample_bytree=0.8380276852355778,\n",
       "                                          early_stopping_rounds=None,\n",
       "                                          enable_categorical=False,\n",
       "                                          eval_metric=<function r2_score at 0x000001F3EAF80CA0>,\n",
       "                                          gamma=0, gpu_id=-1,\n",
       "                                          grow_policy='depthwise',\n",
       "                                          importance_type=None,\n",
       "                                          interaction_con...\n",
       "                                        'max_depth': <scipy.stats._distn_infrastructure.rv_frozen object at 0x000001F38C7FED60>,\n",
       "                                        'min_child_weight': [1e-05, 0.001, 0.01,\n",
       "                                                             0.1, 1, 10.0,\n",
       "                                                             100.0, 1000.0,\n",
       "                                                             10000.0],\n",
       "                                        'n_estimators': [1000, 5000, 10000],\n",
       "                                        'reg_alpha': [0, 0.1, 0.01, 0.05, 0.5,\n",
       "                                                      0.25, 1, 2, 5, 7, 10, 50,\n",
       "                                                      100],\n",
       "                                        'reg_lambda': [0, 0.1, 0.01, 0.05, 0.5,\n",
       "                                                       0.25, 1, 5, 10, 20, 50,\n",
       "                                                       100],\n",
       "                                        'subsample': <scipy.stats._distn_infrastructure.rv_frozen object at 0x000001F38C7FE8E0>},\n",
       "                   random_state=0, verbose=True)"
      ]
     },
     "execution_count": 380,
     "metadata": {},
     "output_type": "execute_result"
    }
   ],
   "source": [
    "gs.fit(x_train, y_train, **fit_params)"
   ]
  },
  {
   "cell_type": "code",
   "execution_count": 381,
   "id": "747384cd",
   "metadata": {},
   "outputs": [],
   "source": [
    "opt_parameters = gs.best_params_"
   ]
  },
  {
   "cell_type": "code",
   "execution_count": 382,
   "id": "197e95f1",
   "metadata": {},
   "outputs": [
    {
     "data": {
      "text/plain": [
       "{'colsample_bytree': 0.6356708776604978,\n",
       " 'learning_rate': 0.05180393817686888,\n",
       " 'max_depth': 3,\n",
       " 'min_child_weight': 1,\n",
       " 'n_estimators': 1000,\n",
       " 'reg_alpha': 0.05,\n",
       " 'reg_lambda': 0.25,\n",
       " 'subsample': 0.8225254007598803}"
      ]
     },
     "execution_count": 382,
     "metadata": {},
     "output_type": "execute_result"
    }
   ],
   "source": [
    "opt_parameters"
   ]
  },
  {
   "cell_type": "code",
   "execution_count": 383,
   "id": "9eac35d7",
   "metadata": {},
   "outputs": [
    {
     "data": {
      "text/plain": [
       "XGBRegressor(base_score=0.5, booster='gbtree', callbacks=None,\n",
       "             colsample_bylevel=1, colsample_bynode=1,\n",
       "             colsample_bytree=0.6356708776604978, early_stopping_rounds=None,\n",
       "             enable_categorical=False,\n",
       "             eval_metric=<function r2_score at 0x000001F3EAF80CA0>, gamma=0,\n",
       "             gpu_id=-1, grow_policy='depthwise', importance_type=None,\n",
       "             interaction_constraints='', learning_rate=0.05180393817686888,\n",
       "             max_bin=256, max_cat_to_onehot=4, max_delta_step=0, max_depth=3,\n",
       "             max_leaves=0, min_child_weight=1, missing=nan,\n",
       "             monotone_constraints='()', n_estimators=1000, n_jobs=0,\n",
       "             num_parallel_tree=1, predictor='auto', random_state=0,\n",
       "             reg_alpha=0.05, reg_lambda=0.25, ...)"
      ]
     },
     "execution_count": 383,
     "metadata": {},
     "output_type": "execute_result"
    }
   ],
   "source": [
    "model = XGBRegressor(**model.get_params())\n",
    "model.set_params(**opt_parameters)"
   ]
  },
  {
   "cell_type": "code",
   "execution_count": 384,
   "id": "7a9e5a2e",
   "metadata": {},
   "outputs": [
    {
     "name": "stdout",
     "output_type": "stream",
     "text": [
      "train:  0.892064476049097\n",
      "test:  0.8463368219890011\n",
      "val:  0.8382613202014897\n"
     ]
    }
   ],
   "source": [
    "model = fit_model(df_train, df_test, df_val, model, True)"
   ]
  },
  {
   "cell_type": "markdown",
   "id": "4db8ff5e",
   "metadata": {},
   "source": [
    "#### Guardamos el modelo"
   ]
  },
  {
   "cell_type": "code",
   "execution_count": 385,
   "id": "4fd2416b",
   "metadata": {},
   "outputs": [],
   "source": [
    "pd.to_pickle(model, \"best_model.pkl\")"
   ]
  },
  {
   "cell_type": "markdown",
   "id": "b30264d5",
   "metadata": {},
   "source": [
    "## Predicciones finales"
   ]
  },
  {
   "cell_type": "code",
   "execution_count": 403,
   "id": "1e085ba3",
   "metadata": {},
   "outputs": [
    {
     "data": {
      "image/png": "[encoded data removed]",
      "text/plain": [
       "<Figure size 649.125x360 with 1 Axes>"
      ]
     },
     "metadata": {},
     "output_type": "display_data"
    }
   ],
   "source": [
    "df_eval = df_test.copy()\n",
    "df_eval[\"prediction\"] = (np.exp(model.predict(df_test.drop(columns=[\"Precio\"])))-1)\n",
    "\n",
    "df_data=pd.DataFrame({\n",
    "    \"precio\": np.concatenate([df_eval[\"Precio\"],df_eval[\"prediction\"]]),\n",
    "    \"type\": ([\"target\"]*df_eval.shape[0] + [\"prediction\"]*df_eval.shape[0])\n",
    "})\n",
    "\n",
    "sns.displot(data=df_data, x='precio', hue='type', kind='kde', fill=True, palette=sns.color_palette('bright')[:2], height=5, aspect=1.5)\n",
    "plt.title(\"Distribución de predicciones vs precios reales\")\n",
    "plt.show()\n"
   ]
  }
 ],
 "metadata": {
  "kernelspec": {
   "display_name": "Python 3 (ipykernel)",
   "language": "python",
   "name": "python3"
  },
  "language_info": {
   "codemirror_mode": {
    "name": "ipython",
    "version": 3
   },
   "file_extension": ".py",
   "mimetype": "text/x-python",
   "name": "python",
   "nbconvert_exporter": "python",
   "pygments_lexer": "ipython3",
   "version": "3.8.8"
  }
 },
 "nbformat": 4,
 "nbformat_minor": 5
}
