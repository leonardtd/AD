{
 "cells": [
  {
   "cell_type": "markdown",
   "id": "391bb139",
   "metadata": {},
   "source": [
    "# Importando Feature Importance"
   ]
  },
  {
   "cell_type": "code",
   "execution_count": 1,
   "id": "7c536e70",
   "metadata": {},
   "outputs": [
    {
     "ename": "SyntaxError",
     "evalue": "invalid syntax (<ipython-input-1-d73edcc8342c>, line 5)",
     "output_type": "error",
     "traceback": [
      "\u001b[1;36m  File \u001b[1;32m\"<ipython-input-1-d73edcc8342c>\"\u001b[1;36m, line \u001b[1;32m5\u001b[0m\n\u001b[1;33m    Creative Commons Corporation (“Creative Commons”) is not a law firm and does not provide legal services or legal advice. Distribution of Creative Commons public licenses does not create a lawyer-client or other relationship. Creative Commons makes its licenses and related information available on an “as-is” basis. Creative Commons gives no warranties regarding its licenses, any material licensed under their terms and conditions, or any related information. Creative Commons disclaims all liability for damages resulting from their use to the fullest extent possible.\u001b[0m\n\u001b[1;37m             ^\u001b[0m\n\u001b[1;31mSyntaxError\u001b[0m\u001b[1;31m:\u001b[0m invalid syntax\n"
     ]
    }
   ],
   "source": [
    "#@title CC4.0-BY-NC-SA.md\n",
    "%%writefile CC4.0-BY-NC-SA.md\n",
    "# Creative Commons Attribution-NonCommercial-ShareAlike 4.0 International\n",
    "\n",
    "Creative Commons Corporation (“Creative Commons”) is not a law firm and does not provide legal services or legal advice. Distribution of Creative Commons public licenses does not create a lawyer-client or other relationship. Creative Commons makes its licenses and related information available on an “as-is” basis. Creative Commons gives no warranties regarding its licenses, any material licensed under their terms and conditions, or any related information. Creative Commons disclaims all liability for damages resulting from their use to the fullest extent possible.\n",
    "\n",
    "### Using Creative Commons Public Licenses\n",
    "\n",
    "Creative Commons public licenses provide a standard set of terms and conditions that creators and other rights holders may use to share original works of authorship and other material subject to copyright and certain other rights specified in the public license below. The following considerations are for informational purposes only, are not exhaustive, and do not form part of our licenses.\n",
    "\n",
    "* __Considerations for licensors:__ Our public licenses are intended for use by those authorized to give the public permission to use material in ways otherwise restricted by copyright and certain other rights. Our licenses are irrevocable. Licensors should read and understand the terms and conditions of the license they choose before applying it. Licensors should also secure all rights necessary before applying our licenses so that the public can reuse the material as expected. Licensors should clearly mark any material not subject to the license. This includes other CC-licensed material, or material used under an exception or limitation to copyright. [More considerations for licensors](http://wiki.creativecommons.org/Considerations_for_licensors_and_licensees#Considerations_for_licensors).\n",
    "\n",
    "* __Considerations for the public:__ By using one of our public licenses, a licensor grants the public permission to use the licensed material under specified terms and conditions. If the licensor’s permission is not necessary for any reason–for example, because of any applicable exception or limitation to copyright–then that use is not regulated by the license. Our licenses grant only permissions under copyright and certain other rights that a licensor has authority to grant. Use of the licensed material may still be restricted for other reasons, including because others have copyright or other rights in the material. A licensor may make special requests, such as asking that all changes be marked or described. Although not required by our licenses, you are encouraged to respect those requests where reasonable. [More considerations for the public](http://wiki.creativecommons.org/Considerations_for_licensors_and_licensees#Considerations_for_licensees).\n",
    "\n",
    "## Creative Commons Attribution-NonCommercial-ShareAlike 4.0 International Public License\n",
    "\n",
    "By exercising the Licensed Rights (defined below), You accept and agree to be bound by the terms and conditions of this Creative Commons Attribution-NonCommercial-ShareAlike 4.0 International Public License (\"Public License\"). To the extent this Public License may be interpreted as a contract, You are granted the Licensed Rights in consideration of Your acceptance of these terms and conditions, and the Licensor grants You such rights in consideration of benefits the Licensor receives from making the Licensed Material available under these terms and conditions.\n",
    "\n",
    "### Section 1 – Definitions.\n",
    "\n",
    "a. __Adapted Material__ means material subject to Copyright and Similar Rights that is derived from or based upon the Licensed Material and in which the Licensed Material is translated, altered, arranged, transformed, or otherwise modified in a manner requiring permission under the Copyright and Similar Rights held by the Licensor. For purposes of this Public License, where the Licensed Material is a musical work, performance, or sound recording, Adapted Material is always produced where the Licensed Material is synched in timed relation with a moving image.\n",
    "\n",
    "b. __Adapter's License__ means the license You apply to Your Copyright and Similar Rights in Your contributions to Adapted Material in accordance with the terms and conditions of this Public License.\n",
    "\n",
    "c. __BY-NC-SA Compatible License__ means a license listed at [creativecommons.org/compatiblelicenses](http://creativecommons.org/compatiblelicenses), approved by Creative Commons as essentially the equivalent of this Public License.\n",
    "\n",
    "d. __Copyright and Similar Rights__ means copyright and/or similar rights closely related to copyright including, without limitation, performance, broadcast, sound recording, and Sui Generis Database Rights, without regard to how the rights are labeled or categorized. For purposes of this Public License, the rights specified in Section 2(b)(1)-(2) are not Copyright and Similar Rights.\n",
    "\n",
    "e. __Effective Technological Measures__ means those measures that, in the absence of proper authority, may not be circumvented under laws fulfilling obligations under Article 11 of the WIPO Copyright Treaty adopted on December 20, 1996, and/or similar international agreements.\n",
    "\n",
    "f. __Exceptions and Limitations__ means fair use, fair dealing, and/or any other exception or limitation to Copyright and Similar Rights that applies to Your use of the Licensed Material.\n",
    "\n",
    "g. __License Elements__ means the license attributes listed in the name of a Creative Commons Public License. The License Elements of this Public License are Attribution, NonCommercial, and ShareAlike.\n",
    "\n",
    "h. __Licensed Material__ means the artistic or literary work, database, or other material to which the Licensor applied this Public License.\n",
    "\n",
    "i. __Licensed Rights__ means the rights granted to You subject to the terms and conditions of this Public License, which are limited to all Copyright and Similar Rights that apply to Your use of the Licensed Material and that the Licensor has authority to license.\n",
    "\n",
    "j. __Licensor__ means the individual(s) or entity(ies) granting rights under this Public License.\n",
    "\n",
    "k. __NonCommercial__ means not primarily intended for or directed towards commercial advantage or monetary compensation. For purposes of this Public License, the exchange of the Licensed Material for other material subject to Copyright and Similar Rights by digital file-sharing or similar means is NonCommercial provided there is no payment of monetary compensation in connection with the exchange.\n",
    "\n",
    "l. __Share__ means to provide material to the public by any means or process that requires permission under the Licensed Rights, such as reproduction, public display, public performance, distribution, dissemination, communication, or importation, and to make material available to the public including in ways that members of the public may access the material from a place and at a time individually chosen by them.\n",
    "\n",
    "m. __Sui Generis Database Rights__ means rights other than copyright resulting from Directive 96/9/EC of the European Parliament and of the Council of 11 March 1996 on the legal protection of databases, as amended and/or succeeded, as well as other essentially equivalent rights anywhere in the world.\n",
    "\n",
    "n. __You__ means the individual or entity exercising the Licensed Rights under this Public License. Your has a corresponding meaning.\n",
    "\n",
    "### Section 2 – Scope.\n",
    "\n",
    "a. ___License grant.___\n",
    "\n",
    "   1. Subject to the terms and conditions of this Public License, the Licensor hereby grants You a worldwide, royalty-free, non-sublicensable, non-exclusive, irrevocable license to exercise the Licensed Rights in the Licensed Material to:\n",
    "\n",
    "        A. reproduce and Share the Licensed Material, in whole or in part, for NonCommercial purposes only; and\n",
    "\n",
    "        B. produce, reproduce, and Share Adapted Material for NonCommercial purposes only.\n",
    "\n",
    "   2. __Exceptions and Limitations.__ For the avoidance of doubt, where Exceptions and Limitations apply to Your use, this Public License does not apply, and You do not need to comply with its terms and conditions.\n",
    "\n",
    "   3. __Term.__ The term of this Public License is specified in Section 6(a).\n",
    "\n",
    "   4. __Media and formats; technical modifications allowed.__ The Licensor authorizes You to exercise the Licensed Rights in all media and formats whether now known or hereafter created, and to make technical modifications necessary to do so. The Licensor waives and/or agrees not to assert any right or authority to forbid You from making technical modifications necessary to exercise the Licensed Rights, including technical modifications necessary to circumvent Effective Technological Measures. For purposes of this Public License, simply making modifications authorized by this Section 2(a)(4) never produces Adapted Material.\n",
    "\n",
    "   5. __Downstream recipients.__\n",
    "\n",
    "        A. __Offer from the Licensor – Licensed Material.__ Every recipient of the Licensed Material automatically receives an offer from the Licensor to exercise the Licensed Rights under the terms and conditions of this Public License.\n",
    "\n",
    "        B. __Additional offer from the Licensor – Adapted Material.__ Every recipient of Adapted Material from You automatically receives an offer from the Licensor to exercise the Licensed Rights in the Adapted Material under the conditions of the Adapter’s License You apply.\n",
    "\n",
    "        C. __No downstream restrictions.__ You may not offer or impose any additional or different terms or conditions on, or apply any Effective Technological Measures to, the Licensed Material if doing so restricts exercise of the Licensed Rights by any recipient of the Licensed Material.\n",
    "\n",
    "    6. __No endorsement.__ Nothing in this Public License constitutes or may be construed as permission to assert or imply that You are, or that Your use of the Licensed Material is, connected with, or sponsored, endorsed, or granted official status by, the Licensor or others designated to receive attribution as provided in Section 3(a)(1)(A)(i).\n",
    "\n",
    "b. ___Other rights.___\n",
    "\n",
    "   1. Moral rights, such as the right of integrity, are not licensed under this Public License, nor are publicity, privacy, and/or other similar personality rights; however, to the extent possible, the Licensor waives and/or agrees not to assert any such rights held by the Licensor to the limited extent necessary to allow You to exercise the Licensed Rights, but not otherwise.\n",
    "\n",
    "   2. Patent and trademark rights are not licensed under this Public License.\n",
    "\n",
    "   3. To the extent possible, the Licensor waives any right to collect royalties from You for the exercise of the Licensed Rights, whether directly or through a collecting society under any voluntary or waivable statutory or compulsory licensing scheme. In all other cases the Licensor expressly reserves any right to collect such royalties, including when the Licensed Material is used other than for NonCommercial purposes.\n",
    "\n",
    "### Section 3 – License Conditions.\n",
    "\n",
    "Your exercise of the Licensed Rights is expressly made subject to the following conditions.\n",
    "\n",
    "a. ___Attribution.___\n",
    "\n",
    "   1. If You Share the Licensed Material (including in modified form), You must:\n",
    "\n",
    "       A. retain the following if it is supplied by the Licensor with the Licensed Material:\n",
    "\n",
    "         i. identification of the creator(s) of the Licensed Material and any others designated to receive attribution, in any reasonable manner requested by the Licensor (including by pseudonym if designated);\n",
    "\n",
    "         ii. a copyright notice;\n",
    "\n",
    "         iii. a notice that refers to this Public License;\n",
    "\n",
    "         iv. a notice that refers to the disclaimer of warranties;\n",
    "\n",
    "         v. a URI or hyperlink to the Licensed Material to the extent reasonably practicable;\n",
    "\n",
    "       B. indicate if You modified the Licensed Material and retain an indication of any previous modifications; and\n",
    "\n",
    "       C. indicate the Licensed Material is licensed under this Public License, and include the text of, or the URI or hyperlink to, this Public License.\n",
    "\n",
    "    2. You may satisfy the conditions in Section 3(a)(1) in any reasonable manner based on the medium, means, and context in which You Share the Licensed Material. For example, it may be reasonable to satisfy the conditions by providing a URI or hyperlink to a resource that includes the required information.\n",
    "\n",
    "    3. If requested by the Licensor, You must remove any of the information required by Section 3(a)(1)(A) to the extent reasonably practicable.\n",
    "\n",
    "b. ___ShareAlike.___\n",
    "\n",
    "In addition to the conditions in Section 3(a), if You Share Adapted Material You produce, the following conditions also apply.\n",
    "\n",
    "1. The Adapter’s License You apply must be a Creative Commons license with the same License Elements, this version or later, or a BY-NC-SA Compatible License.\n",
    "\n",
    "2. You must include the text of, or the URI or hyperlink to, the Adapter's License You apply. You may satisfy this condition in any reasonable manner based on the medium, means, and context in which You Share Adapted Material.\n",
    "\n",
    "3. You may not offer or impose any additional or different terms or conditions on, or apply any Effective Technological Measures to, Adapted Material that restrict exercise of the rights granted under the Adapter's License You apply.\n",
    "\n",
    "### Section 4 – Sui Generis Database Rights.\n",
    "\n",
    "Where the Licensed Rights include Sui Generis Database Rights that apply to Your use of the Licensed Material:\n",
    "\n",
    "a. for the avoidance of doubt, Section 2(a)(1) grants You the right to extract, reuse, reproduce, and Share all or a substantial portion of the contents of the database for NonCommercial purposes only;\n",
    "\n",
    "b. if You include all or a substantial portion of the database contents in a database in which You have Sui Generis Database Rights, then the database in which You have Sui Generis Database Rights (but not its individual contents) is Adapted Material, including for purposes of Section 3(b); and\n",
    "\n",
    "c. You must comply with the conditions in Section 3(a) if You Share all or a substantial portion of the contents of the database.\n",
    "\n",
    "For the avoidance of doubt, this Section 4 supplements and does not replace Your obligations under this Public License where the Licensed Rights include other Copyright and Similar Rights.\n",
    "\n",
    "### Section 5 – Disclaimer of Warranties and Limitation of Liability.\n",
    "\n",
    "a. __Unless otherwise separately undertaken by the Licensor, to the extent possible, the Licensor offers the Licensed Material as-is and as-available, and makes no representations or warranties of any kind concerning the Licensed Material, whether express, implied, statutory, or other. This includes, without limitation, warranties of title, merchantability, fitness for a particular purpose, non-infringement, absence of latent or other defects, accuracy, or the presence or absence of errors, whether or not known or discoverable. Where disclaimers of warranties are not allowed in full or in part, this disclaimer may not apply to You.__\n",
    "\n",
    "b. __To the extent possible, in no event will the Licensor be liable to You on any legal theory (including, without limitation, negligence) or otherwise for any direct, special, indirect, incidental, consequential, punitive, exemplary, or other losses, costs, expenses, or damages arising out of this Public License or use of the Licensed Material, even if the Licensor has been advised of the possibility of such losses, costs, expenses, or damages. Where a limitation of liability is not allowed in full or in part, this limitation may not apply to You.__\n",
    "\n",
    "c. The disclaimer of warranties and limitation of liability provided above shall be interpreted in a manner that, to the extent possible, most closely approximates an absolute disclaimer and waiver of all liability.\n",
    "\n",
    "### Section 6 – Term and Termination.\n",
    "\n",
    "a. This Public License applies for the term of the Copyright and Similar Rights licensed here. However, if You fail to comply with this Public License, then Your rights under this Public License terminate automatically.\n",
    "\n",
    "b. Where Your right to use the Licensed Material has terminated under Section 6(a), it reinstates:\n",
    "\n",
    "   1. automatically as of the date the violation is cured, provided it is cured within 30 days of Your discovery of the violation; or\n",
    "\n",
    "   2. upon express reinstatement by the Licensor.\n",
    "\n",
    "   For the avoidance of doubt, this Section 6(b) does not affect any right the Licensor may have to seek remedies for Your violations of this Public License.\n",
    "\n",
    "c. For the avoidance of doubt, the Licensor may also offer the Licensed Material under separate terms or conditions or stop distributing the Licensed Material at any time; however, doing so will not terminate this Public License.\n",
    "\n",
    "d. Sections 1, 5, 6, 7, and 8 survive termination of this Public License.\n",
    "\n",
    "### Section 7 – Other Terms and Conditions.\n",
    "\n",
    "a. The Licensor shall not be bound by any additional or different terms or conditions communicated by You unless expressly agreed.\n",
    "\n",
    "b. Any arrangements, understandings, or agreements regarding the Licensed Material not stated herein are separate from and independent of the terms and conditions of this Public License.\n",
    "\n",
    "### Section 8 – Interpretation.\n",
    "\n",
    "a. For the avoidance of doubt, this Public License does not, and shall not be interpreted to, reduce, limit, restrict, or impose conditions on any use of the Licensed Material that could lawfully be made without permission under this Public License.\n",
    "\n",
    "b. To the extent possible, if any provision of this Public License is deemed unenforceable, it shall be automatically reformed to the minimum extent necessary to make it enforceable. If the provision cannot be reformed, it shall be severed from this Public License without affecting the enforceability of the remaining terms and conditions.\n",
    "\n",
    "c. No term or condition of this Public License will be waived and no failure to comply consented to unless expressly agreed to by the Licensor.\n",
    "\n",
    "d. Nothing in this Public License constitutes or may be interpreted as a limitation upon, or waiver of, any privileges and immunities that apply to the Licensor or You, including from the legal processes of any jurisdiction or authority.\n",
    "\n",
    "> Creative Commons is not a party to its public licenses. Notwithstanding, Creative Commons may elect to apply one of its public licenses to material it publishes and in those instances will be considered the “Licensor.” Except for the limited purpose of indicating that material is shared under a Creative Commons public license or as otherwise permitted by the Creative Commons policies published at [creativecommons.org/policies](http://creativecommons.org/policies), Creative Commons does not authorize the use of the trademark “Creative Commons” or any other trademark or logo of Creative Commons without its prior written consent including, without limitation, in connection with any unauthorized modifications to any of its public licenses or any other arrangements, understandings, or agreements concerning use of licensed material. For the avoidance of doubt, this paragraph does not form part of the public licenses.\n",
    ">\n",
    "> Creative Commons may be contacted at creativecommons.org"
   ]
  },
  {
   "cell_type": "code",
   "execution_count": null,
   "id": "95a1841f",
   "metadata": {},
   "outputs": [],
   "source": [
    "#@title LICENSE.md\n",
    "%%writefile LICENSE.md\n",
    "Columns Importance Callbacks © by Emanuel Eduardo Franco Pariasca Trevejo\n",
    "\n",
    "This work is licensed under a [Creative Commons Attribution-NonCommercial-ShareAlike 4.0 International License](http://creativecommons.org/licenses/by-nc-sa/4.0/).\n",
    "\n",
    "You should have received a copy of the license along with this work. If not, see <http://creativecommons.org/licenses/by-nc-sa/4.0/>.\n",
    "\n",
    "Contact Email: emanuel.pariasca@pucp.edu.pe"
   ]
  },
  {
   "cell_type": "code",
   "execution_count": 2,
   "id": "2618fdef",
   "metadata": {},
   "outputs": [],
   "source": [
    "#@title columns_importance_callbacks.py\n",
    "#%%writefile columns_importance_callbacks.py\n",
    "'''\n",
    "Columns Importance Callbacks © by Emanuel Eduardo Franco Pariasca Trevejo\n",
    "\n",
    "This work is licensed under a [Creative Commons Attribution-NonCommercial-ShareAlike 4.0 International License](http://creativecommons.org/licenses/by-nc-sa/4.0/).\n",
    "\n",
    "You should have received a copy of the license along with this work. If not, see <http://creativecommons.org/licenses/by-nc-sa/4.0/>.\n",
    "\n",
    "Contact Email: emanuel.pariasca@pucp.edu.pe\n",
    "*/\n",
    "'''\n",
    "import matplotlib.pyplot as plt\n",
    "from sklearn.base import clone\n",
    "import pandas as pd\n",
    "import numpy as np\n",
    "\n",
    "def get_columns_importance(model, x_train, y_train, x_to_verify, y_to_verify, metric_to_evaluate, mode, column_names, figsize=(12, 8)):\n",
    "  \"\"\"\n",
    "    mode: {\"greater\", \"lower\"}\n",
    "        Especifica el modo a usar para realizar para el cálculo de los \"importances\"\n",
    "        - \"greater\": Se usa cuando la métrica que evaluamos es mejor mientras mayor sea su valor; por ejemplo, mientras mayor \"accuracy\" se tenga es mejor\n",
    "        - \"lower\": Se usa cuando la métrica que evaluamos es mejor mientras menor sea su valor; por ejemplo, mientras menor \"mean_squared_error\" se tenga es mejor\n",
    "  \"\"\"\n",
    "\n",
    "  assert mode in [\"greater\", \"lower\"], \"The parameter 'mode' should be 'greater' or 'lower'\"\n",
    "\n",
    "  assert isinstance(x_train, (np.ndarray)), \"The parameter 'x_train' should be a numpy array\"\n",
    "  assert isinstance(x_to_verify, (np.ndarray)), \"The parameter 'x_to_verify' should be a numpy array\"\n",
    "\n",
    "  x_train = pd.DataFrame(x_train, columns=column_names)\n",
    "  x_to_verify = pd.DataFrame(x_to_verify, columns=column_names)\n",
    "  \n",
    "  original_model = clone(model)\n",
    "\n",
    "  if hasattr(original_model, \"random_state\"):\n",
    "    original_model_random_state = original_model.random_state\n",
    "  else:\n",
    "    original_model_random_state = None\n",
    "  \n",
    "  original_model.fit(x_train, y_train)\n",
    "  baseline_score = metric_to_evaluate(y_to_verify, original_model.predict(x_to_verify))\n",
    "\n",
    "  importances = list()\n",
    "\n",
    "  for column_name in column_names:\n",
    "      x_train_without_column = x_train.drop(column_name, axis=1)\n",
    "      x_to_verify_without_column = x_to_verify.drop(column_name, axis=1)\n",
    "\n",
    "      new_model = clone(original_model)\n",
    "\n",
    "      if original_model_random_state != None:\n",
    "        new_model.random_state = original_model_random_state\n",
    "\n",
    "      new_model.fit(x_train_without_column, y_train)\n",
    "      new_score = metric_to_evaluate(y_to_verify, new_model.predict(x_to_verify_without_column))\n",
    "      \n",
    "      if mode == \"greater\":\n",
    "        importance = new_score - baseline_score\n",
    "      elif mode == \"lower\":\n",
    "        importance = baseline_score - new_score\n",
    "      else:\n",
    "        raise Exception(\"The value provided for 'mode' is not supported\")\n",
    "\n",
    "      importances.append(importance)\n",
    "  \n",
    "  importances = np.array(importances)\n",
    "  \n",
    "  importances_report = pd.DataFrame(data={\"column_names\": column_names, \"importances\": importances})\n",
    "  importances_report = importances_report.sort_values(\"importances\", ascending=True)\n",
    "\n",
    "  if mode == \"greater\":\n",
    "    title = \"Al eliminar las columnas con barras hacia la derecha, el valor de la métrica a evaluar aumenta\\n\"\n",
    "    title += \"Al eliminar las columnas con barras hacia la izquierda, el valor de la métrica a evaluar disminuye\"\n",
    "  elif mode == \"lower\":\n",
    "    title = \"Al eliminar las columnas con barras hacia la derecha, el valor de la métrica a evaluar disminuye\\n\"\n",
    "    title += \"Al eliminar las columnas con barras hacia la izquierda, el valor de la métrica a evaluar aumenta\"\n",
    "  else:\n",
    "    raise Exception(\"The value provided for 'mode' is not supported\")\n",
    "\n",
    "  fig = plt.figure(figsize=figsize)\n",
    "  plt.barh(importances_report.column_names, importances_report.importances.values, height=0.75)\n",
    "  plt.axvline(x=0, color=\"r\")\n",
    "  plt.title(title)\n",
    "  fig.tight_layout()\n",
    "  plt.show()\n",
    "\n",
    "  return importances_report"
   ]
  },
  {
   "cell_type": "code",
   "execution_count": 3,
   "id": "45c99c6b",
   "metadata": {},
   "outputs": [],
   "source": [
    "import pandas as pd\n",
    "import numpy as np\n",
    "import matplotlib.pyplot as plt\n",
    "from mpl_toolkits.mplot3d import Axes3D\n",
    "import seaborn as sns\n",
    "from datetime import datetime\n",
    "from sklearn.model_selection import train_test_split\n",
    "from sklearn.linear_model import LinearRegression, LassoLars, Lasso, Ridge\n",
    "from sklearn.preprocessing import MinMaxScaler"
   ]
  },
  {
   "cell_type": "code",
   "execution_count": 4,
   "id": "70d15314",
   "metadata": {},
   "outputs": [],
   "source": [
    "df = pd.read_csv('urbania_data_clean.csv')"
   ]
  },
  {
   "cell_type": "markdown",
   "id": "7e584b2f",
   "metadata": {},
   "source": [
    "# Dropeando Columnas que no aportan al modelo"
   ]
  },
  {
   "cell_type": "code",
   "execution_count": 5,
   "id": "f06551c0",
   "metadata": {},
   "outputs": [],
   "source": [
    "df = df.drop(columns =[\"Descripcion\", \"Anunciante\", \"Fecha_pub\", \"latitud\", \"longitud\", \"Direccion\"], axis = 1)"
   ]
  },
  {
   "cell_type": "code",
   "execution_count": 6,
   "id": "952c7aec",
   "metadata": {},
   "outputs": [
    {
     "name": "stdout",
     "output_type": "stream",
     "text": [
      "<class 'pandas.core.frame.DataFrame'>\n",
      "RangeIndex: 7644 entries, 0 to 7643\n",
      "Columns: 205 entries, Antiguedad to Provincia_Provincia\n",
      "dtypes: float64(11), int64(123), object(71)\n",
      "memory usage: 12.0+ MB\n"
     ]
    }
   ],
   "source": [
    "df.info()"
   ]
  },
  {
   "cell_type": "markdown",
   "id": "2740b80b",
   "metadata": {},
   "source": [
    "# Convirtiendo las variables categoricas a numericas"
   ]
  },
  {
   "cell_type": "code",
   "execution_count": 7,
   "id": "71ca2204",
   "metadata": {},
   "outputs": [],
   "source": [
    "# Luego de revisar cada columna..\n",
    "\n",
    "## NUMERICAS\n",
    "num_cols_originales = [\n",
    "    'Antiguedad',\n",
    "    'NroBanios',\n",
    "    'Nro_pisos',\n",
    "    'Cocheras',\n",
    "    'Dormitorios',\n",
    "    #'fecha_publicacion',\n",
    "    'Precio',\n",
    "    'Area_constr_m2',\n",
    "    'Area_total_m2',\n",
    "\n",
    "]\n",
    "\n",
    "num_cols = [\n",
    "    'Antiguedad',\n",
    "    'NroBanios',\n",
    "    'Nro_pisos',\n",
    "    'Cocheras',\n",
    "    'Dormitorios',\n",
    "    #'fecha_publicacion',\n",
    "    'Precio',\n",
    "    'Area_constr_m2',\n",
    "    'Area_total_m2',\n",
    "    \"ratioConstruccion\",\n",
    "    \"ratioBanios\",\n",
    "    \"ratioDormitorios\",\n",
    "    \"diferenciaAreas\"\n",
    "]\n",
    "\n",
    "col_garma = [\n",
    "    'Cocheras',\n",
    "    'Precio',\n",
    "    'Area_constr_m2',\n",
    "    'Area_total_m2',\n",
    "    \"ratioBanios\",\n",
    "    'NroBanios',\n",
    "]"
   ]
  },
  {
   "cell_type": "code",
   "execution_count": 8,
   "id": "14a6fabc",
   "metadata": {},
   "outputs": [],
   "source": [
    "df = df.sort_values(by = 'fecha_publicacion')"
   ]
  },
  {
   "cell_type": "code",
   "execution_count": 9,
   "id": "34950b4d",
   "metadata": {},
   "outputs": [
    {
     "data": {
      "text/plain": [
       "Index(['Balneario', 'Uso_comercial', 'Uso_profesional', ''Cuarto de servicio'',\n",
       "       ''Deposito'', ''Terraza'', ''Kitchenette'', ''Sala de estar'',\n",
       "       ''Sotano'', ''Patio'', ''anx81tico'', ''Comedor diario'', ''Comedor'',\n",
       "       ''Banio de servicio'', ''Jardanxadn Interno'', ''Walking Closet'',\n",
       "       ''Escritorio'', ''Cocina'', ''Banio independiente'', ''Lavanderanxada'',\n",
       "       ''Balcon'', ''Sala'', ''Closet'', ''Banio de visitas'', ''Agua'',\n",
       "       ''Guardiananxada'', ''Internet'', ''Luz'', ''Cable'',\n",
       "       ''Servicio de Limpieza'', ''Conexion a gas'', ''Sistema de seguridad'',\n",
       "       ''Telefono'', ''Areadeportiva'', ''Piscina'', ''Solarium'',\n",
       "       ''Sala de internet'', ''Sala de cine'', ''Jardanxadn'',\n",
       "       ''Parque interno'', ''Guarderanxada'', ''anx81reas verdes'',\n",
       "       ''Club House'', ''Hall de ingreso'', ''Areade BBQ'', ''Gimnasio'',\n",
       "       ''Areade sauna'', ''Juegos para ninios'', ''Ingreso independiente'',\n",
       "       ''Colegios cercanos'', ''Cerca al mar'',\n",
       "       ''Centros comerciales cercanos'', ''Parques cercanos'',\n",
       "       ''Acceso personas discapacidad'', ''Frente al mar'', ''Desagaue'',\n",
       "       ''Jacuzzi'', ''Chimenea'', ''Intercomunicador'', ''Cerco Electrico'',\n",
       "       ''Parrilla'', ''Aire acondicionado'', ''Amoblado'', ''Sauna'',\n",
       "       ''Calefaccion'', ''Equipado'', ''Terma'', ''Portero electrico'',\n",
       "       ''Cocina con reposteros'', 'fecha_publicacion', 'Area_total_m2_bins'],\n",
       "      dtype='object')"
      ]
     },
     "execution_count": 9,
     "metadata": {},
     "output_type": "execute_result"
    }
   ],
   "source": [
    "df.select_dtypes('object').columns"
   ]
  },
  {
   "cell_type": "markdown",
   "id": "dca2cf16",
   "metadata": {},
   "source": [
    "## DF con solo variables numericas originales"
   ]
  },
  {
   "cell_type": "code",
   "execution_count": 10,
   "id": "6fd08d04",
   "metadata": {},
   "outputs": [],
   "source": [
    "df_num_org = df[num_cols_originales]"
   ]
  },
  {
   "cell_type": "markdown",
   "id": "580f8835",
   "metadata": {},
   "source": [
    "## DF con solo variables numericas"
   ]
  },
  {
   "cell_type": "code",
   "execution_count": 11,
   "id": "8afd4fa1",
   "metadata": {},
   "outputs": [],
   "source": [
    "df_num = df[num_cols]"
   ]
  },
  {
   "cell_type": "markdown",
   "id": "c5f792ff-aff5-482c-b66d-f179557f33f6",
   "metadata": {},
   "source": [
    "## DF sin algunas variables construccion"
   ]
  },
  {
   "cell_type": "code",
   "execution_count": 12,
   "id": "26099fb3-6288-47ce-b229-1033e066af81",
   "metadata": {
    "tags": []
   },
   "outputs": [],
   "source": [
    "df_num_constr = df_num.drop(columns = [\n",
    "    'Area_constr_m2'\n",
    "    #'Area_total_m2',\n",
    "    #\"ratioConstruccion\",\n",
    "    #\"ratioBanios\",\n",
    "    #\"ratioDormitorios\"\n",
    "])"
   ]
  },
  {
   "cell_type": "markdown",
   "id": "f97c5c18",
   "metadata": {},
   "source": [
    "## DF para variables categoricas"
   ]
  },
  {
   "cell_type": "code",
   "execution_count": 13,
   "id": "a0e13324",
   "metadata": {},
   "outputs": [],
   "source": [
    "df_cat = df.drop(columns=['fecha_publicacion', 'Balneario', 'Area_total_m2_bins'])"
   ]
  },
  {
   "cell_type": "code",
   "execution_count": 14,
   "id": "69baca4a",
   "metadata": {},
   "outputs": [],
   "source": [
    "#Obteniendo las columnas numericas para no procesarlas\n",
    "col_num = df_cat.select_dtypes('number').columns.tolist()"
   ]
  },
  {
   "cell_type": "code",
   "execution_count": 15,
   "id": "61a6c072",
   "metadata": {},
   "outputs": [],
   "source": [
    "#Obteniendo las columnas que indican imputacion\n",
    "col_num_imp = []\n",
    "for col in col_num:\n",
    "    if '_IMP' in col:\n",
    "        col_num_imp = col_num_imp + [col]"
   ]
  },
  {
   "cell_type": "code",
   "execution_count": 16,
   "id": "211f544a",
   "metadata": {},
   "outputs": [],
   "source": [
    "#Obteniendo las columnas categoricas para procesar\n",
    "col_cat = df_cat.select_dtypes('object').columns.tolist()"
   ]
  },
  {
   "cell_type": "code",
   "execution_count": 17,
   "id": "4bc219e9",
   "metadata": {},
   "outputs": [],
   "source": [
    "def imputarValor (df, columns, value):\n",
    "    for col in columns:\n",
    "        try:\n",
    "            df[col] = df[col].apply(lambda x: float(value) if x == 'ND' else float(x) )\n",
    "        except:\n",
    "            print(col)\n",
    "    return df"
   ]
  },
  {
   "cell_type": "markdown",
   "id": "13ba4043",
   "metadata": {},
   "source": [
    "### DF con tratando ND con valor 2"
   ]
  },
  {
   "cell_type": "code",
   "execution_count": 18,
   "id": "e36c3fc1",
   "metadata": {},
   "outputs": [],
   "source": [
    "df_cat_2 = df_cat.copy()"
   ]
  },
  {
   "cell_type": "code",
   "execution_count": 19,
   "id": "00bc8cd5",
   "metadata": {},
   "outputs": [],
   "source": [
    "df_cat_2 = imputarValor(df_cat_2, col_cat, 2)"
   ]
  },
  {
   "cell_type": "code",
   "execution_count": 20,
   "id": "7e43ce2c",
   "metadata": {},
   "outputs": [
    {
     "data": {
      "text/plain": [
       "Index([], dtype='object')"
      ]
     },
     "execution_count": 20,
     "metadata": {},
     "output_type": "execute_result"
    }
   ],
   "source": [
    "df_cat_2.select_dtypes('object').columns"
   ]
  },
  {
   "cell_type": "markdown",
   "id": "4061e087",
   "metadata": {},
   "source": [
    "### DF con tratando ND con valor 0"
   ]
  },
  {
   "cell_type": "code",
   "execution_count": 21,
   "id": "3108fc20",
   "metadata": {},
   "outputs": [],
   "source": [
    "df_cat_0 = df_cat.copy()"
   ]
  },
  {
   "cell_type": "code",
   "execution_count": 22,
   "id": "887ed86f",
   "metadata": {},
   "outputs": [],
   "source": [
    "df_cat_0 = imputarValor(df_cat_2, col_cat, 0)"
   ]
  },
  {
   "cell_type": "markdown",
   "id": "668a6e0f",
   "metadata": {},
   "source": [
    "### DF quitando columnas IMP"
   ]
  },
  {
   "cell_type": "code",
   "execution_count": 23,
   "id": "5992c3ba",
   "metadata": {},
   "outputs": [],
   "source": [
    "df_cat_imp = df_cat_2.drop(columns = col_num_imp)"
   ]
  },
  {
   "cell_type": "markdown",
   "id": "8c930062-8e55-460e-bc2a-8a0833714eec",
   "metadata": {
    "tags": []
   },
   "source": [
    "## Correlacion"
   ]
  },
  {
   "cell_type": "code",
   "execution_count": 24,
   "id": "ec62554f-08f0-40b0-b309-6d072f29783c",
   "metadata": {},
   "outputs": [],
   "source": [
    "corrmat = df_num.corr()"
   ]
  },
  {
   "cell_type": "code",
   "execution_count": 25,
   "id": "0c31b5a3-cb19-4749-9322-8d21a31d8f31",
   "metadata": {},
   "outputs": [],
   "source": [
    "columns = corrmat.nlargest(12, 'Precio')['Precio'].index"
   ]
  },
  {
   "cell_type": "code",
   "execution_count": 26,
   "id": "c9d2c7d3-a34a-46b5-b726-4d9d2f2378c9",
   "metadata": {},
   "outputs": [],
   "source": [
    "corrmat = df_num[columns].corr()"
   ]
  },
  {
   "cell_type": "code",
   "execution_count": 27,
   "id": "fa9a84a3-c008-48b8-a355-ca5dded6a11f",
   "metadata": {
    "scrolled": true
   },
   "outputs": [
    {
     "data": {
      "image/png": "[encoded data removed]",
      "text/plain": [
       "<Figure size 720x720 with 2 Axes>"
      ]
     },
     "metadata": {
      "needs_background": "light"
     },
     "output_type": "display_data"
    }
   ],
   "source": [
    "plt.figure(figsize=(10,10))\n",
    "sns.set(font_scale=1.25)\n",
    "heat_map = sns.heatmap(corrmat, cbar=True, annot=True, square=True, fmt='.2f', annot_kws={'size': 10}, yticklabels=columns.values, xticklabels=columns.values)\n",
    "plt.show()"
   ]
  },
  {
   "cell_type": "markdown",
   "id": "8e2222d0-71e8-495a-9af2-47113aae40d2",
   "metadata": {},
   "source": [
    "## DF top 5 corr"
   ]
  },
  {
   "cell_type": "code",
   "execution_count": 28,
   "id": "3974cdd1-0e3d-49c6-9347-f73855bc281d",
   "metadata": {
    "tags": []
   },
   "outputs": [],
   "source": [
    "df_top5corr = df_num[col_garma]"
   ]
  },
  {
   "cell_type": "markdown",
   "id": "29b5f9b6",
   "metadata": {},
   "source": [
    "# Separando dataset en val, test, train"
   ]
  },
  {
   "cell_type": "code",
   "execution_count": 29,
   "id": "3a8e5516",
   "metadata": {},
   "outputs": [],
   "source": [
    "def train_test_val_split(df):\n",
    "    df_val = df.iloc[int(df.shape[0]*0.9):]\n",
    "    df_training = df.iloc[:int(df.shape[0]*0.9)]\n",
    "    df_train, df_test = train_test_split(df_training, random_state = 0, test_size = 0.2)\n",
    "    return df_train, df_test, df_val"
   ]
  },
  {
   "cell_type": "code",
   "execution_count": 30,
   "id": "d8a14881",
   "metadata": {},
   "outputs": [],
   "source": [
    "def x_y_split(df, target):\n",
    "    x =  df.drop(columns = target)\n",
    "    y = df[target].values\n",
    "    return x, y"
   ]
  },
  {
   "cell_type": "code",
   "execution_count": 31,
   "id": "1a2439ac",
   "metadata": {},
   "outputs": [],
   "source": [
    "def fit_model(df_train, df_test, df_val, model, normalize = False):\n",
    "    x_train, y_train = x_y_split(df_train, \"Precio\")\n",
    "    x_test, y_test = x_y_split(df_test, \"Precio\")\n",
    "    x_val, y_val = x_y_split(df_val, \"Precio\")\n",
    "    \n",
    "    if normalize:\n",
    "        y_train = np.log1p(y_train)\n",
    "        y_test = np.log1p(y_test)\n",
    "        y_val = np.log1p(y_val)\n",
    "        \n",
    "    model.fit(x_train, y_train)\n",
    "    print(\"train: \",model.score(x_train, y_train))\n",
    "    print(\"test: \",model.score(x_test, y_test))\n",
    "    print(\"val: \",model.score(x_val, y_val))\n",
    "    return model"
   ]
  },
  {
   "cell_type": "markdown",
   "id": "5806cc21",
   "metadata": {},
   "source": [
    "## Modelo 1: variables numericas originales"
   ]
  },
  {
   "cell_type": "code",
   "execution_count": 32,
   "id": "6f556f83",
   "metadata": {},
   "outputs": [],
   "source": [
    "df_train, df_test, df_val = train_test_val_split(df_num_org)"
   ]
  },
  {
   "cell_type": "code",
   "execution_count": 33,
   "id": "403cde4b",
   "metadata": {},
   "outputs": [
    {
     "name": "stdout",
     "output_type": "stream",
     "text": [
      "train:  0.33703055401273463\n",
      "test:  0.3258099317251195\n",
      "val:  0.3067394073643902\n"
     ]
    }
   ],
   "source": [
    "model = fit_model(df_train, df_test, df_val, LinearRegression())"
   ]
  },
  {
   "cell_type": "markdown",
   "id": "083c477a",
   "metadata": {},
   "source": [
    "## Modelo 2: variables numericas"
   ]
  },
  {
   "cell_type": "code",
   "execution_count": 34,
   "id": "04b7f6ea",
   "metadata": {},
   "outputs": [],
   "source": [
    "df_train, df_test, df_val = train_test_val_split(df_num)"
   ]
  },
  {
   "cell_type": "code",
   "execution_count": 35,
   "id": "470736fa",
   "metadata": {},
   "outputs": [
    {
     "name": "stdout",
     "output_type": "stream",
     "text": [
      "train:  0.41898649286193446\n",
      "test:  0.2716230297817386\n",
      "val:  0.3946752527436227\n"
     ]
    }
   ],
   "source": [
    "model = fit_model(df_train, df_test, df_val, LinearRegression())"
   ]
  },
  {
   "cell_type": "markdown",
   "id": "ddcba5d3-18fc-4c56-8802-95bc8179b594",
   "metadata": {
    "tags": []
   },
   "source": [
    "## Modelo 3: primeras 5 corr"
   ]
  },
  {
   "cell_type": "code",
   "execution_count": 36,
   "id": "02a358b7-d5c0-49f5-ab1c-70a86c15e7e8",
   "metadata": {},
   "outputs": [],
   "source": [
    "df_train, df_test, df_val = train_test_val_split(df_top5corr)"
   ]
  },
  {
   "cell_type": "code",
   "execution_count": 37,
   "id": "b0380df5-e1ee-4564-9569-4cbdf58e93e5",
   "metadata": {},
   "outputs": [
    {
     "name": "stdout",
     "output_type": "stream",
     "text": [
      "train:  0.3370000446611974\n",
      "test:  0.3236877876449833\n",
      "val:  0.30686457858659355\n"
     ]
    }
   ],
   "source": [
    "model = fit_model(df_train, df_test, df_val, LinearRegression())"
   ]
  },
  {
   "cell_type": "markdown",
   "id": "311a785d",
   "metadata": {},
   "source": [
    "## Modelo 4: variables numericas normalizando precio"
   ]
  },
  {
   "cell_type": "code",
   "execution_count": 38,
   "id": "ac7e2956",
   "metadata": {},
   "outputs": [],
   "source": [
    "df_train, df_test, df_val = train_test_val_split(df_num)"
   ]
  },
  {
   "cell_type": "code",
   "execution_count": 39,
   "id": "afd80ec6",
   "metadata": {},
   "outputs": [
    {
     "name": "stdout",
     "output_type": "stream",
     "text": [
      "train:  0.5362166581335344\n",
      "test:  0.3936900344224654\n",
      "val:  0.5198767703096199\n"
     ]
    }
   ],
   "source": [
    "model = fit_model(df_train, df_test, df_val, LinearRegression(), True)"
   ]
  },
  {
   "cell_type": "markdown",
   "id": "964b6192",
   "metadata": {},
   "source": [
    "## Utilizando el feature importance con variables numericas"
   ]
  },
  {
   "cell_type": "code",
   "execution_count": 40,
   "id": "44b1af53",
   "metadata": {},
   "outputs": [],
   "source": [
    "df_train, df_test, df_val = train_test_val_split(df_num)"
   ]
  },
  {
   "cell_type": "code",
   "execution_count": 41,
   "id": "6ed4f741",
   "metadata": {},
   "outputs": [],
   "source": [
    "x_train, y_train = x_y_split(df_train, \"Precio\")\n",
    "x_test, y_test = x_y_split(df_test, \"Precio\")\n",
    "x_val, y_val = x_y_split(df_val, \"Precio\")"
   ]
  },
  {
   "cell_type": "code",
   "execution_count": 42,
   "id": "e5e41c84",
   "metadata": {},
   "outputs": [],
   "source": [
    "column_names = x_train.columns.tolist()"
   ]
  },
  {
   "cell_type": "code",
   "execution_count": 43,
   "id": "d48457c8",
   "metadata": {},
   "outputs": [],
   "source": [
    "#Escalamiento de las variables\n",
    "scaler = MinMaxScaler()\n",
    "\n",
    "x_train = scaler.fit_transform(x_train)\n",
    "x_test = scaler.transform(x_test)\n",
    "x_val = scaler.transform(x_val)"
   ]
  },
  {
   "cell_type": "code",
   "execution_count": 44,
   "id": "77d99044",
   "metadata": {},
   "outputs": [],
   "source": [
    "model = LinearRegression()"
   ]
  },
  {
   "cell_type": "code",
   "execution_count": 45,
   "id": "69a1f5a7",
   "metadata": {},
   "outputs": [
    {
     "data": {
      "text/plain": [
       "LinearRegression()"
      ]
     },
     "execution_count": 45,
     "metadata": {},
     "output_type": "execute_result"
    }
   ],
   "source": [
    "model.fit(x_train, y_train)"
   ]
  },
  {
   "cell_type": "code",
   "execution_count": 46,
   "id": "a73fb800",
   "metadata": {},
   "outputs": [
    {
     "data": {
      "image/png": "[encoded data removed]",
      "text/plain": [
       "<Figure size 864x576 with 1 Axes>"
      ]
     },
     "metadata": {},
     "output_type": "display_data"
    }
   ],
   "source": [
    "from sklearn.metrics import r2_score\n",
    "importances_report = get_columns_importance(\n",
    "                                              model,\n",
    "                                              x_train=x_train,\n",
    "                                              y_train=y_train,\n",
    "                                              x_to_verify=x_test,\n",
    "                                              y_to_verify=y_test,\n",
    "                                              metric_to_evaluate=r2_score,\n",
    "                                              mode=\"greater\",\n",
    "                                              column_names=column_names\n",
    "                                            )"
   ]
  },
  {
   "cell_type": "markdown",
   "id": "4cf56de9",
   "metadata": {},
   "source": [
    "## Modelo 5: variables categoricas con imputacion 2"
   ]
  },
  {
   "cell_type": "code",
   "execution_count": 47,
   "id": "1108e185",
   "metadata": {},
   "outputs": [],
   "source": [
    "df_train, df_test, df_val = train_test_val_split(df_cat_2)"
   ]
  },
  {
   "cell_type": "code",
   "execution_count": 48,
   "id": "0532df17",
   "metadata": {},
   "outputs": [
    {
     "name": "stdout",
     "output_type": "stream",
     "text": [
      "train:  0.5445619141801161\n",
      "test:  0.5119408644167841\n",
      "val:  0.5146283180670879\n"
     ]
    }
   ],
   "source": [
    "model = fit_model(df_train, df_test, df_val, LinearRegression())"
   ]
  },
  {
   "cell_type": "markdown",
   "id": "0696ff49",
   "metadata": {},
   "source": [
    "## Modelo 6: variables categoricas con imputacion 0"
   ]
  },
  {
   "cell_type": "code",
   "execution_count": 49,
   "id": "fdbb9417",
   "metadata": {},
   "outputs": [],
   "source": [
    "df_train, df_test, df_val = train_test_val_split(df_cat_0)"
   ]
  },
  {
   "cell_type": "code",
   "execution_count": 50,
   "id": "16a8b43a",
   "metadata": {},
   "outputs": [
    {
     "name": "stdout",
     "output_type": "stream",
     "text": [
      "train:  0.5445619141801161\n",
      "test:  0.5119408644167841\n",
      "val:  0.5146283180670879\n"
     ]
    }
   ],
   "source": [
    "model = fit_model(df_train, df_test, df_val, LinearRegression())"
   ]
  },
  {
   "cell_type": "markdown",
   "id": "1e3ec828",
   "metadata": {},
   "source": [
    "## Modelo 7: variables categoricas quitando columnas de imputacion"
   ]
  },
  {
   "cell_type": "code",
   "execution_count": 51,
   "id": "768ab67b",
   "metadata": {},
   "outputs": [],
   "source": [
    "df_train, df_test, df_val = train_test_val_split(df_cat_imp)"
   ]
  },
  {
   "cell_type": "code",
   "execution_count": 52,
   "id": "86c132b3",
   "metadata": {},
   "outputs": [
    {
     "name": "stdout",
     "output_type": "stream",
     "text": [
      "train:  0.543669600740041\n",
      "test:  0.5118441772119591\n",
      "val:  0.5182177797009182\n"
     ]
    }
   ],
   "source": [
    "model = fit_model(df_train, df_test, df_val, LinearRegression())"
   ]
  },
  {
   "cell_type": "markdown",
   "id": "0f45859a",
   "metadata": {},
   "source": [
    "## Modelo 8: compuesto por los mejores modelos con LinearRegression"
   ]
  },
  {
   "cell_type": "code",
   "execution_count": 53,
   "id": "c165ed3a",
   "metadata": {},
   "outputs": [],
   "source": [
    "df_train, df_test, df_val = train_test_val_split(df_cat_2)"
   ]
  },
  {
   "cell_type": "code",
   "execution_count": 54,
   "id": "c3ae4328",
   "metadata": {},
   "outputs": [
    {
     "name": "stdout",
     "output_type": "stream",
     "text": [
      "train:  0.7691183807360783\n",
      "test:  0.7295063408009896\n",
      "val:  0.7438407070904844\n"
     ]
    }
   ],
   "source": [
    "model = fit_model(df_train, df_test, df_val, LinearRegression(), True)"
   ]
  },
  {
   "cell_type": "markdown",
   "id": "a2aebcba",
   "metadata": {},
   "source": [
    "## Modelo 9: compuesto por los mejores modelos con LassoLars"
   ]
  },
  {
   "cell_type": "code",
   "execution_count": 55,
   "id": "8b5ccb92",
   "metadata": {},
   "outputs": [],
   "source": [
    "df_train, df_test, df_val = train_test_val_split(df_cat_2)"
   ]
  },
  {
   "cell_type": "code",
   "execution_count": 56,
   "id": "a19b6c52",
   "metadata": {},
   "outputs": [
    {
     "name": "stdout",
     "output_type": "stream",
     "text": [
      "train:  0.46399457546675493\n",
      "test:  0.43574580363856796\n",
      "val:  0.4413762024851463\n"
     ]
    }
   ],
   "source": [
    "model = fit_model(df_train, df_test, df_val, LassoLars(alpha=.1, normalize=False), True)"
   ]
  },
  {
   "cell_type": "markdown",
   "id": "a8865ccf",
   "metadata": {},
   "source": [
    "## Modelo 10: compuesto por los mejores modelos con RandomForestRegressor"
   ]
  },
  {
   "cell_type": "code",
   "execution_count": 57,
   "id": "c06496f3",
   "metadata": {},
   "outputs": [],
   "source": [
    "from sklearn.ensemble import RandomForestRegressor\n",
    "df_train, df_test, df_val = train_test_val_split(df_cat_2)\n",
    "model = RandomForestRegressor(n_estimators=5, random_state=0)"
   ]
  },
  {
   "cell_type": "code",
   "execution_count": 58,
   "id": "617137c4",
   "metadata": {},
   "outputs": [
    {
     "name": "stdout",
     "output_type": "stream",
     "text": [
      "train:  0.9521839152302041\n",
      "test:  0.7746223202640926\n",
      "val:  0.7835134849094705\n"
     ]
    }
   ],
   "source": [
    "model = fit_model(df_train, df_test, df_val, model, True)"
   ]
  },
  {
   "cell_type": "markdown",
   "id": "5f69097e",
   "metadata": {},
   "source": [
    "## Modelo 11: compuesto por los mejores modelos con Ridge"
   ]
  },
  {
   "cell_type": "code",
   "execution_count": 59,
   "id": "537ebd9e",
   "metadata": {},
   "outputs": [],
   "source": [
    "df_train, df_test, df_val = train_test_val_split(df_cat_2)\n",
    "model = Ridge(alpha=1.0)"
   ]
  },
  {
   "cell_type": "code",
   "execution_count": 60,
   "id": "01b8cfa2",
   "metadata": {},
   "outputs": [
    {
     "name": "stdout",
     "output_type": "stream",
     "text": [
      "train:  0.7691025976255357\n",
      "test:  0.7298760324938034\n",
      "val:  0.7438167056523565\n"
     ]
    }
   ],
   "source": [
    "model = fit_model(df_train, df_test, df_val, model, True)"
   ]
  },
  {
   "cell_type": "markdown",
   "id": "b5786e4a",
   "metadata": {},
   "source": [
    "## Modelo 12: compuesto por los mejores modelos con Lasso"
   ]
  },
  {
   "cell_type": "code",
   "execution_count": 61,
   "id": "7676a240",
   "metadata": {},
   "outputs": [],
   "source": [
    "df_train, df_test, df_val = train_test_val_split(df_cat_2)\n",
    "model = Lasso(alpha=0.1)"
   ]
  },
  {
   "cell_type": "code",
   "execution_count": 62,
   "id": "0530c0c7",
   "metadata": {},
   "outputs": [
    {
     "name": "stdout",
     "output_type": "stream",
     "text": [
      "train:  0.46399435834720315\n",
      "test:  0.43574279576913677\n",
      "val:  0.4413713900960331\n"
     ]
    }
   ],
   "source": [
    "model = fit_model(df_train, df_test, df_val, model, True)"
   ]
  },
  {
   "cell_type": "markdown",
   "id": "82a7da07",
   "metadata": {},
   "source": [
    "## Modelo 13: compuesto por los mejores modelos con XGBRegressor"
   ]
  },
  {
   "cell_type": "code",
   "execution_count": 66,
   "id": "dc1ab745",
   "metadata": {},
   "outputs": [],
   "source": [
    "from xgboost import XGBRegressor\n",
    "df_train, df_test, df_val = train_test_val_split(df_cat_2)\n",
    "model = XGBRegressor(tree_method=\"hist\", eval_metric = r2_score)"
   ]
  },
  {
   "cell_type": "code",
   "execution_count": 67,
   "id": "f0d3d144",
   "metadata": {},
   "outputs": [
    {
     "name": "stdout",
     "output_type": "stream",
     "text": [
      "train:  0.9670327854744787\n",
      "test:  0.8380338078546273\n",
      "val:  0.8254673736467446\n"
     ]
    }
   ],
   "source": [
    "model = fit_model(df_train, df_test, df_val, model, True)"
   ]
  }
 ],
 "metadata": {
  "kernelspec": {
   "display_name": "Python 3",
   "language": "python",
   "name": "python3"
  },
  "language_info": {
   "codemirror_mode": {
    "name": "ipython",
    "version": 3
   },
   "file_extension": ".py",
   "mimetype": "text/x-python",
   "name": "python",
   "nbconvert_exporter": "python",
   "pygments_lexer": "ipython3",
   "version": "3.9.4"
  }
 },
 "nbformat": 4,
 "nbformat_minor": 5
}
