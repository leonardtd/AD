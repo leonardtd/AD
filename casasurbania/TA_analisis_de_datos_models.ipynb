{
 "cells": [
  {
   "cell_type": "code",
   "execution_count": 1,
   "id": "45c99c6b",
   "metadata": {},
   "outputs": [],
   "source": [
    "import pandas as pd\n",
    "import numpy as np\n",
    "import matplotlib.pyplot as plt\n",
    "from mpl_toolkits.mplot3d import Axes3D\n",
    "import seaborn as sns\n",
    "from datetime import datetime\n",
    "from sklearn.model_selection import train_test_split\n",
    "from sklearn.linear_model import LinearRegression"
   ]
  },
  {
   "cell_type": "code",
   "execution_count": 2,
   "id": "70d15314",
   "metadata": {},
   "outputs": [],
   "source": [
    "df = pd.read_csv('urbania_data_clean.csv')"
   ]
  },
  {
   "cell_type": "markdown",
   "id": "7e584b2f",
   "metadata": {},
   "source": [
    "# Dropeando Columnas que no aportan al modelo"
   ]
  },
  {
   "cell_type": "code",
   "execution_count": 4,
   "id": "f06551c0",
   "metadata": {},
   "outputs": [],
   "source": [
    "df = df.drop(columns =[\"Descripcion\", \"Anunciante\", \"Fecha_pub\", \"latitud\", \"longitud\"], axis = 1)"
   ]
  },
  {
   "cell_type": "code",
   "execution_count": 5,
   "id": "952c7aec",
   "metadata": {},
   "outputs": [
    {
     "name": "stdout",
     "output_type": "stream",
     "text": [
      "<class 'pandas.core.frame.DataFrame'>\n",
      "RangeIndex: 7644 entries, 0 to 7643\n",
      "Columns: 7295 entries, Antiguedad to Area_total_m2_bins_(9.519, 10.657]\n",
      "dtypes: float64(10), int64(7284), object(1)\n",
      "memory usage: 425.4+ MB\n"
     ]
    }
   ],
   "source": [
    "df.info()"
   ]
  },
  {
   "cell_type": "markdown",
   "id": "2740b80b",
   "metadata": {},
   "source": [
    "# Convirtiendo las variables categoricas a numericas"
   ]
  },
  {
   "cell_type": "code",
   "execution_count": 6,
   "id": "71ca2204",
   "metadata": {},
   "outputs": [],
   "source": [
    "# Luego de revisar cada columna..\n",
    "\n",
    "## NUMERICAS\n",
    "num_cols_originales = [\n",
    "    'Antiguedad',\n",
    "    'NroBanios',\n",
    "    'Nro_pisos',\n",
    "    'Cocheras',\n",
    "    'Dormitorios',\n",
    "    #'fecha_publicacion',\n",
    "    'Precio',\n",
    "    'Area_constr_m2',\n",
    "    'Area_total_m2'\n",
    "\n",
    "]\n",
    "\n",
    "num_cols = [\n",
    "    'Antiguedad',\n",
    "    'NroBanios',\n",
    "    'Nro_pisos',\n",
    "    'Cocheras',\n",
    "    'Dormitorios',\n",
    "    #'fecha_publicacion',\n",
    "    'Precio',\n",
    "    'Area_constr_m2',\n",
    "    'Area_total_m2',\n",
    "    \"ratioConstruccion\",\n",
    "    \"ratioBanios\",\n",
    "    \"ratioDormitorios\"\n",
    "\n",
    "]"
   ]
  },
  {
   "cell_type": "code",
   "execution_count": 7,
   "id": "14a6fabc",
   "metadata": {},
   "outputs": [],
   "source": [
    "df = df.sort_values(by = 'fecha_publicacion')"
   ]
  },
  {
   "cell_type": "code",
   "execution_count": 36,
   "id": "34950b4d",
   "metadata": {},
   "outputs": [
    {
     "data": {
      "text/plain": [
       "Index(['fecha_publicacion'], dtype='object')"
      ]
     },
     "execution_count": 36,
     "metadata": {},
     "output_type": "execute_result"
    }
   ],
   "source": [
    "df.select_dtypes('object').columns"
   ]
  },
  {
   "cell_type": "code",
   "execution_count": 8,
   "id": "9555e34e",
   "metadata": {},
   "outputs": [
    {
     "data": {
      "text/plain": [
       "Index(['Antiguedad', 'NroBanios', 'Nro_pisos', 'Cocheras', 'Dormitorios',\n",
       "       'Precio', 'Area_constr_m2', 'Area_total_m2', 'Balneario_IMP',\n",
       "       'Estado de Inmueble_IMP',\n",
       "       ...\n",
       "       'Area_total_m2_bins_(-0.739, 0.411]',\n",
       "       'Area_total_m2_bins_(0.411, 1.549]',\n",
       "       'Area_total_m2_bins_(1.549, 2.688]',\n",
       "       'Area_total_m2_bins_(2.688, 3.826]',\n",
       "       'Area_total_m2_bins_(3.826, 4.965]',\n",
       "       'Area_total_m2_bins_(4.965, 6.103]',\n",
       "       'Area_total_m2_bins_(6.103, 7.242]', 'Area_total_m2_bins_(7.242, 8.38]',\n",
       "       'Area_total_m2_bins_(8.38, 9.519]',\n",
       "       'Area_total_m2_bins_(9.519, 10.657]'],\n",
       "      dtype='object', length=7294)"
      ]
     },
     "execution_count": 8,
     "metadata": {},
     "output_type": "execute_result"
    }
   ],
   "source": [
    "df.select_dtypes('number').columns"
   ]
  },
  {
   "cell_type": "markdown",
   "id": "dca2cf16",
   "metadata": {},
   "source": [
    "## DF con solo variables numericas originales"
   ]
  },
  {
   "cell_type": "code",
   "execution_count": 9,
   "id": "6fd08d04",
   "metadata": {},
   "outputs": [],
   "source": [
    "df_num_org = df[num_cols_originales]"
   ]
  },
  {
   "cell_type": "markdown",
   "id": "580f8835",
   "metadata": {},
   "source": [
    "## DF con solo variables numericas"
   ]
  },
  {
   "cell_type": "code",
   "execution_count": 10,
   "id": "8afd4fa1",
   "metadata": {},
   "outputs": [],
   "source": [
    "df_num = df[num_cols]"
   ]
  },
  {
   "cell_type": "markdown",
   "id": "f0ac44a2",
   "metadata": {},
   "source": [
    "## DF con variables numericas y categoricas"
   ]
  },
  {
   "cell_type": "code",
   "execution_count": 11,
   "id": "364290f3",
   "metadata": {},
   "outputs": [],
   "source": [
    "df_num_cat = df.drop(columns = [\"fecha_publicacion\"])"
   ]
  },
  {
   "cell_type": "markdown",
   "id": "29b5f9b6",
   "metadata": {},
   "source": [
    "# Separando dataset en val, test, train"
   ]
  },
  {
   "cell_type": "code",
   "execution_count": 12,
   "id": "3a8e5516",
   "metadata": {},
   "outputs": [],
   "source": [
    "def train_test_val_split(df):\n",
    "    df_val = df.iloc[int(df.shape[0]*0.9):]\n",
    "    df_training = df.iloc[:int(df.shape[0]*0.9)]\n",
    "    df_train, df_test = train_test_split(df_training, random_state = 0, test_size = 0.2)\n",
    "    return df_train, df_test, df_val"
   ]
  },
  {
   "cell_type": "code",
   "execution_count": 13,
   "id": "d8a14881",
   "metadata": {},
   "outputs": [],
   "source": [
    "def x_y_split(df, target):\n",
    "    x =  df.drop(columns = target)\n",
    "    y = df[target].values\n",
    "    return x, y"
   ]
  },
  {
   "cell_type": "markdown",
   "id": "5806cc21",
   "metadata": {},
   "source": [
    "## Modelo 1: variables numericas originales"
   ]
  },
  {
   "cell_type": "code",
   "execution_count": 14,
   "id": "6f556f83",
   "metadata": {},
   "outputs": [],
   "source": [
    "df_train, df_test, df_val = train_test_val_split(df_num_org)"
   ]
  },
  {
   "cell_type": "code",
   "execution_count": 15,
   "id": "3b37ca16",
   "metadata": {},
   "outputs": [],
   "source": [
    "x_train, y_train = x_y_split(df_train, \"Precio\")\n",
    "x_test, y_test = x_y_split(df_test, \"Precio\")\n",
    "x_val, y_val = x_y_split(df_val, \"Precio\")"
   ]
  },
  {
   "cell_type": "code",
   "execution_count": 16,
   "id": "ec6fae54",
   "metadata": {},
   "outputs": [],
   "source": [
    "model = LinearRegression()"
   ]
  },
  {
   "cell_type": "code",
   "execution_count": 17,
   "id": "fb863f8f",
   "metadata": {},
   "outputs": [
    {
     "data": {
      "text/plain": [
       "LinearRegression()"
      ]
     },
     "execution_count": 17,
     "metadata": {},
     "output_type": "execute_result"
    }
   ],
   "source": [
    "model.fit(x_train, y_train)"
   ]
  },
  {
   "cell_type": "code",
   "execution_count": 18,
   "id": "403cde4b",
   "metadata": {},
   "outputs": [
    {
     "name": "stdout",
     "output_type": "stream",
     "text": [
      "train:  0.33703055401273463\n",
      "test:  0.3258099317251195\n",
      "val:  0.3067394073643902\n"
     ]
    }
   ],
   "source": [
    "print(\"train: \",model.score(x_train, y_train))\n",
    "print(\"test: \",model.score(x_test, y_test))\n",
    "print(\"val: \",model.score(x_val, y_val))"
   ]
  },
  {
   "cell_type": "markdown",
   "id": "083c477a",
   "metadata": {},
   "source": [
    "## Modelo 2: variables numericas"
   ]
  },
  {
   "cell_type": "code",
   "execution_count": 19,
   "id": "04b7f6ea",
   "metadata": {},
   "outputs": [],
   "source": [
    "df_train, df_test, df_val = train_test_val_split(df_num)"
   ]
  },
  {
   "cell_type": "code",
   "execution_count": 20,
   "id": "203cc966",
   "metadata": {},
   "outputs": [],
   "source": [
    "x_train, y_train = x_y_split(df_train, \"Precio\")\n",
    "x_test, y_test = x_y_split(df_test, \"Precio\")\n",
    "x_val, y_val = x_y_split(df_val, \"Precio\")"
   ]
  },
  {
   "cell_type": "code",
   "execution_count": 21,
   "id": "277e5df6",
   "metadata": {},
   "outputs": [],
   "source": [
    "model = LinearRegression()"
   ]
  },
  {
   "cell_type": "code",
   "execution_count": 22,
   "id": "b6ae7127",
   "metadata": {},
   "outputs": [
    {
     "data": {
      "text/plain": [
       "LinearRegression()"
      ]
     },
     "execution_count": 22,
     "metadata": {},
     "output_type": "execute_result"
    }
   ],
   "source": [
    "model.fit(x_train, y_train)"
   ]
  },
  {
   "cell_type": "code",
   "execution_count": 23,
   "id": "470736fa",
   "metadata": {},
   "outputs": [
    {
     "name": "stdout",
     "output_type": "stream",
     "text": [
      "train:  0.34338096155426634\n",
      "test:  0.32270988799164557\n",
      "val:  0.3014237880238675\n"
     ]
    }
   ],
   "source": [
    "print(\"train: \",model.score(x_train, y_train))\n",
    "print(\"test: \",model.score(x_test, y_test))\n",
    "print(\"val: \",model.score(x_val, y_val))"
   ]
  },
  {
   "cell_type": "markdown",
   "id": "311a785d",
   "metadata": {},
   "source": [
    "## Model 3: variables numericas normalizando precio"
   ]
  },
  {
   "cell_type": "code",
   "execution_count": 24,
   "id": "ac7e2956",
   "metadata": {},
   "outputs": [],
   "source": [
    "df_train, df_test, df_val = train_test_val_split(df_num)"
   ]
  },
  {
   "cell_type": "code",
   "execution_count": 25,
   "id": "3eaaeee1",
   "metadata": {},
   "outputs": [],
   "source": [
    "x_train, y_train = x_y_split(df_train, \"Precio\")\n",
    "x_test, y_test = x_y_split(df_test, \"Precio\")\n",
    "x_val, y_val = x_y_split(df_val, \"Precio\")"
   ]
  },
  {
   "cell_type": "code",
   "execution_count": 26,
   "id": "7845984c",
   "metadata": {},
   "outputs": [],
   "source": [
    "y_train = np.log1p(y_train)\n",
    "y_test = np.log1p(y_test)\n",
    "y_val = np.log1p(y_val)"
   ]
  },
  {
   "cell_type": "code",
   "execution_count": 27,
   "id": "7379783a",
   "metadata": {},
   "outputs": [],
   "source": [
    "model = LinearRegression()"
   ]
  },
  {
   "cell_type": "code",
   "execution_count": 28,
   "id": "0b817236",
   "metadata": {},
   "outputs": [
    {
     "data": {
      "text/plain": [
       "LinearRegression()"
      ]
     },
     "execution_count": 28,
     "metadata": {},
     "output_type": "execute_result"
    }
   ],
   "source": [
    "model.fit(x_train, y_train)"
   ]
  },
  {
   "cell_type": "code",
   "execution_count": 29,
   "id": "afd80ec6",
   "metadata": {},
   "outputs": [
    {
     "name": "stdout",
     "output_type": "stream",
     "text": [
      "train:  0.4605155258008512\n",
      "test:  0.4102120881652177\n",
      "val:  0.44754217946447317\n"
     ]
    }
   ],
   "source": [
    "print(\"train: \",model.score(x_train, y_train))\n",
    "print(\"test: \",model.score(x_test, y_test))\n",
    "print(\"val: \",model.score(x_val, y_val))"
   ]
  },
  {
   "cell_type": "markdown",
   "id": "a22ad9aa",
   "metadata": {},
   "source": [
    "## Model 4: variables numericas y categoricas"
   ]
  },
  {
   "cell_type": "code",
   "execution_count": 37,
   "id": "8518c49c",
   "metadata": {},
   "outputs": [],
   "source": [
    "df_train, df_test, df_val = train_test_val_split(df_num_cat)"
   ]
  },
  {
   "cell_type": "code",
   "execution_count": 38,
   "id": "4e509396",
   "metadata": {},
   "outputs": [],
   "source": [
    "x_train, y_train = x_y_split(df_train, \"Precio\")\n",
    "x_test, y_test = x_y_split(df_test, \"Precio\")\n",
    "x_val, y_val = x_y_split(df_val, \"Precio\")"
   ]
  },
  {
   "cell_type": "code",
   "execution_count": 39,
   "id": "f7de5a93",
   "metadata": {},
   "outputs": [],
   "source": [
    "model = LinearRegression()"
   ]
  },
  {
   "cell_type": "code",
   "execution_count": 40,
   "id": "4bb00bcb",
   "metadata": {},
   "outputs": [
    {
     "data": {
      "text/plain": [
       "LinearRegression()"
      ]
     },
     "execution_count": 40,
     "metadata": {},
     "output_type": "execute_result"
    }
   ],
   "source": [
    "model.fit(x_train, y_train)"
   ]
  },
  {
   "cell_type": "code",
   "execution_count": 41,
   "id": "60217289",
   "metadata": {},
   "outputs": [
    {
     "name": "stdout",
     "output_type": "stream",
     "text": [
      "train:  0.9503565037561439\n",
      "test:  -1.5423831233856188e+16\n",
      "val:  -1.2104632580376532e+16\n"
     ]
    }
   ],
   "source": [
    "print(\"train: \",model.score(x_train, y_train))\n",
    "print(\"test: \",model.score(x_test, y_test))\n",
    "print(\"val: \",model.score(x_val, y_val))"
   ]
  },
  {
   "cell_type": "markdown",
   "id": "012a9cfb",
   "metadata": {},
   "source": [
    "## Model 5: variables numericas y categoricas normalizando precio"
   ]
  },
  {
   "cell_type": "code",
   "execution_count": 42,
   "id": "63a2a861",
   "metadata": {},
   "outputs": [],
   "source": [
    "df_train, df_test, df_val = train_test_val_split(df_num_cat)"
   ]
  },
  {
   "cell_type": "code",
   "execution_count": 43,
   "id": "f9516071",
   "metadata": {},
   "outputs": [],
   "source": [
    "x_train, y_train = x_y_split(df_train, \"Precio\")\n",
    "x_test, y_test = x_y_split(df_test, \"Precio\")\n",
    "x_val, y_val = x_y_split(df_val, \"Precio\")"
   ]
  },
  {
   "cell_type": "code",
   "execution_count": 44,
   "id": "070314f2",
   "metadata": {},
   "outputs": [],
   "source": [
    "y_train = np.log1p(y_train)\n",
    "y_test = np.log1p(y_test)\n",
    "y_val = np.log1p(y_val)"
   ]
  },
  {
   "cell_type": "code",
   "execution_count": 45,
   "id": "1a14721f",
   "metadata": {},
   "outputs": [],
   "source": [
    "model = LinearRegression()"
   ]
  },
  {
   "cell_type": "code",
   "execution_count": 46,
   "id": "6b0c8e17",
   "metadata": {},
   "outputs": [
    {
     "data": {
      "text/plain": [
       "LinearRegression()"
      ]
     },
     "execution_count": 46,
     "metadata": {},
     "output_type": "execute_result"
    }
   ],
   "source": [
    "model.fit(x_train, y_train)"
   ]
  },
  {
   "cell_type": "code",
   "execution_count": 47,
   "id": "252686ea",
   "metadata": {},
   "outputs": [
    {
     "name": "stdout",
     "output_type": "stream",
     "text": [
      "train:  0.9936022821410706\n",
      "test:  -1.8775526730115772e+16\n",
      "val:  -2.484231073898019e+16\n"
     ]
    }
   ],
   "source": [
    "print(\"train: \",model.score(x_train, y_train))\n",
    "print(\"test: \",model.score(x_test, y_test))\n",
    "print(\"val: \",model.score(x_val, y_val))"
   ]
  },
  {
   "cell_type": "code",
   "execution_count": null,
   "id": "e27e1e34",
   "metadata": {},
   "outputs": [],
   "source": []
  },
  {
   "cell_type": "code",
   "execution_count": null,
   "id": "44b1af53",
   "metadata": {},
   "outputs": [],
   "source": []
  },
  {
   "cell_type": "code",
   "execution_count": null,
   "id": "a73fb800",
   "metadata": {},
   "outputs": [],
   "source": []
  }
 ],
 "metadata": {
  "kernelspec": {
   "display_name": "Python 3",
   "language": "python",
   "name": "python3"
  },
  "language_info": {
   "codemirror_mode": {
    "name": "ipython",
    "version": 3
   },
   "file_extension": ".py",
   "mimetype": "text/x-python",
   "name": "python",
   "nbconvert_exporter": "python",
   "pygments_lexer": "ipython3",
   "version": "3.9.4"
  }
 },
 "nbformat": 4,
 "nbformat_minor": 5
}
